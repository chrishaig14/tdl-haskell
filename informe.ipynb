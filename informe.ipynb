{
 "cells": [
  {
   "cell_type": "markdown",
   "metadata": {},
   "source": [
    "# Introducción"
   ]
  },
  {
   "cell_type": "markdown",
   "metadata": {},
   "source": [
    "Haskell es un lenguaje de programación estandarizado multi-propósito puramente funcional con semánticas no estrictas y fuerte tipificación estática. Su nombre se debe al lógico estadounidense Haskell Curry, debido a su aporte al cálculo lambda, el cual tiene gran influencia en el lenguaje.\n",
    "\n",
    "El cálculo lambda es un sistema formal diseñado para investigar la definición de función, la noción de aplicación de funciones y la recursión. Aunque es una abstracción matemática y no un lenguaje de programación, ha formado la base de casi todos los lenguajes funcionales."
   ]
  },
  {
   "cell_type": "markdown",
   "metadata": {},
   "source": [
    "# Historia"
   ]
  },
  {
   "cell_type": "markdown",
   "metadata": {},
   "source": [
    "En 1987 se realizo una reunion con el objetivo de discutir la desafortunada situación que atravesaba la comunidad de lenguajes de programación funcional: existía más de una docena de lenguajes puros y no estrictos, todos muy similares en poder expresivo y semántico, y el uso más extenso de esta clase de lenguajes estaba siendo obstaculizado por la carencia de un lenguaje común.\n",
    "\n",
    "Lo primero fue establecer los siguientes objetivos para el lenguaje:\n",
    "\n",
    "- Debía ser adecuado para la enseñanza, la investigación y el desarrollo de grandes aplicaciones.\n",
    "- Debía ser completamente descripto a través de la publicación de una sintaxis formal y una semántica.\n",
    "- Debía ser disponible libremente. Debía permitirse que cualquier persona pudiera implementar el lenguaje y distribuirlo a quien quisiera.\n",
    "- Debía poder ser usado como base para la investigación de lenguajes.\n",
    "- Debía estar basado en ideas que gozaran de un consenso considerable.\n",
    "- Debía reducir la innecesaria diversidad entre los lenguajes funcionales."
   ]
  },
  {
   "cell_type": "markdown",
   "metadata": {},
   "source": [
    "# ¿Qué se necesita para programar en Haskell?"
   ]
  },
  {
   "cell_type": "markdown",
   "metadata": {},
   "source": [
    "## GHC (compilador e interprete) instalación en Ubuntu:"
   ]
  },
  {
   "cell_type": "markdown",
   "metadata": {},
   "source": [
    "__`sudo apt-get install ghc`__"
   ]
  },
  {
   "cell_type": "markdown",
   "metadata": {},
   "source": [
    "## ¿Cómo compilar?"
   ]
  },
  {
   "cell_type": "markdown",
   "metadata": {},
   "source": [
    "El código fuente del software escrito en Haskell tiene extension __`.hs`__. Para compilar un programa escrito en Haskell, cuyo código fuente se encuentra en __`hola.hs`__, por consola ejecutamos:\n",
    "\n",
    "__`ghc -o hola hola.hs`__\n",
    "\n",
    "Esto genera un ejecutable __`hola`__, que se inicia por consola de la siguiente forma:\n",
    "\n",
    "__`./hola`__"
   ]
  },
  {
   "cell_type": "markdown",
   "metadata": {},
   "source": [
    "## Interprete: GHCi"
   ]
  },
  {
   "cell_type": "markdown",
   "metadata": {},
   "source": [
    "Ya instalado el GHC, podemos ejecutar el interprete via linea de comandos:\n",
    "\n",
    "__`ghci`__\n",
    "\n",
    "Esto permite ejecutar comandos en Haskell directamente, sin necesidad de tener el código en un archivo."
   ]
  },
  {
   "cell_type": "markdown",
   "metadata": {},
   "source": [
    "Un comando que utilizaremos mucho en el resto del trabajo es `:type` o bien `:t` que devolverá el tipo de una expresión."
   ]
  },
  {
   "cell_type": "markdown",
   "metadata": {},
   "source": [
    "# Conceptos básicos"
   ]
  },
  {
   "cell_type": "markdown",
   "metadata": {
    "slideshow": {
     "slide_type": "slide"
    }
   },
   "source": [
    "## Tipado fuerte y estático"
   ]
  },
  {
   "cell_type": "markdown",
   "metadata": {},
   "source": [
    "En Haskell el tipado es _fuerte_ y _estático_, lo cual previene errores y comportamiento inesperado durante la ejecución. Por otro lado, también cuenta con _inferencia de tipos_, evitando así tener que indicar explícitamente los tipos de todas las variables."
   ]
  },
  {
   "cell_type": "markdown",
   "metadata": {},
   "source": [
    "En el siguiente código, el compilador infiere que debe tratar a __`x`__ como un valor de un tipo distinto de __`Int`__, para poder sumarlo con __`pi`__."
   ]
  },
  {
   "cell_type": "code",
   "execution_count": 10,
   "metadata": {
    "slideshow": {
     "slide_type": "-"
    }
   },
   "outputs": [
    {
     "data": {
      "text/plain": [
       "5.141592653589793"
      ]
     },
     "metadata": {},
     "output_type": "display_data"
    }
   ],
   "source": [
    "x = 2\n",
    "y = pi\n",
    "x + y -- el compilador se da cuenta solo"
   ]
  },
  {
   "cell_type": "markdown",
   "metadata": {},
   "source": [
    "Si en cambio se _obliga_ a que __`x`__ sea un __`Int`__, esto causa un error, porque la operación __`+`__ requiere que los dos valores sean del mismo tipo."
   ]
  },
  {
   "cell_type": "code",
   "execution_count": 3,
   "metadata": {
    "ExecuteTime": {
     "end_time": "2018-07-02T03:21:23.284752Z",
     "start_time": "2018-07-02T03:21:21.118Z"
    },
    "slideshow": {
     "slide_type": "slide"
    }
   },
   "outputs": [
    {
     "data": {
      "text/html": [
       "<style>/* Styles used for the Hoogle display in the pager */\n",
       ".hoogle-doc {\n",
       "display: block;\n",
       "padding-bottom: 1.3em;\n",
       "padding-left: 0.4em;\n",
       "}\n",
       ".hoogle-code {\n",
       "display: block;\n",
       "font-family: monospace;\n",
       "white-space: pre;\n",
       "}\n",
       ".hoogle-text {\n",
       "display: block;\n",
       "}\n",
       ".hoogle-name {\n",
       "color: green;\n",
       "font-weight: bold;\n",
       "}\n",
       ".hoogle-head {\n",
       "font-weight: bold;\n",
       "}\n",
       ".hoogle-sub {\n",
       "display: block;\n",
       "margin-left: 0.4em;\n",
       "}\n",
       ".hoogle-package {\n",
       "font-weight: bold;\n",
       "font-style: italic;\n",
       "}\n",
       ".hoogle-module {\n",
       "font-weight: bold;\n",
       "}\n",
       ".hoogle-class {\n",
       "font-weight: bold;\n",
       "}\n",
       ".get-type {\n",
       "color: green;\n",
       "font-weight: bold;\n",
       "font-family: monospace;\n",
       "display: block;\n",
       "white-space: pre-wrap;\n",
       "}\n",
       ".show-type {\n",
       "color: green;\n",
       "font-weight: bold;\n",
       "font-family: monospace;\n",
       "margin-left: 1em;\n",
       "}\n",
       ".mono {\n",
       "font-family: monospace;\n",
       "display: block;\n",
       "}\n",
       ".err-msg {\n",
       "color: red;\n",
       "font-style: italic;\n",
       "font-family: monospace;\n",
       "white-space: pre;\n",
       "display: block;\n",
       "}\n",
       "#unshowable {\n",
       "color: red;\n",
       "font-weight: bold;\n",
       "}\n",
       ".err-msg.in.collapse {\n",
       "padding-top: 0.7em;\n",
       "}\n",
       ".highlight-code {\n",
       "white-space: pre;\n",
       "font-family: monospace;\n",
       "}\n",
       ".suggestion-warning { \n",
       "font-weight: bold;\n",
       "color: rgb(200, 130, 0);\n",
       "}\n",
       ".suggestion-error { \n",
       "font-weight: bold;\n",
       "color: red;\n",
       "}\n",
       ".suggestion-name {\n",
       "font-weight: bold;\n",
       "}\n",
       "</style><span class='err-msg'>&lt;interactive&gt;:1:5: error:<br/>    • No instance for (Floating Int) arising from a use of ‘y’<br/>    • In the second argument of ‘(+)’, namely ‘y’<br/>      In the expression: x + y<br/>      In an equation for ‘it’: it = x + y</span>"
      ],
      "text/plain": [
       "<interactive>:1:5: error:\n",
       "    • No instance for (Floating Int) arising from a use of ‘y’\n",
       "    • In the second argument of ‘(+)’, namely ‘y’\n",
       "      In the expression: x + y\n",
       "      In an equation for ‘it’: it = x + y"
      ]
     },
     "metadata": {},
     "output_type": "display_data"
    }
   ],
   "source": [
    "x :: Int -- forzamos el tipo de x a Int\n",
    "x = 2\n",
    "y = pi\n",
    "x + y"
   ]
  },
  {
   "cell_type": "markdown",
   "metadata": {},
   "source": [
    "La función __`fromIntegral`__ sirve para hacer explícito que hace falta una conversión del __`Int`__ __`x`__ a otro tipo compatible con __`pi`__. (A qué tipo se hace la conversión lo decide el compilador)"
   ]
  },
  {
   "cell_type": "code",
   "execution_count": 2,
   "metadata": {
    "ExecuteTime": {
     "end_time": "2018-07-01T00:20:13.103933Z",
     "start_time": "2018-07-01T00:20:12.781Z"
    },
    "slideshow": {
     "slide_type": "fragment"
    }
   },
   "outputs": [
    {
     "data": {
      "text/plain": [
       "5.141592653589793"
      ]
     },
     "metadata": {},
     "output_type": "display_data"
    }
   ],
   "source": [
    "fromIntegral x + y"
   ]
  },
  {
   "cell_type": "markdown",
   "metadata": {
    "slideshow": {
     "slide_type": "slide"
    }
   },
   "source": [
    "## Lazyness"
   ]
  },
  {
   "cell_type": "markdown",
   "metadata": {
    "slideshow": {
     "slide_type": "-"
    }
   },
   "source": [
    "Por default, todo es __lazy__ en Haskell. Esto quiere decir que siempre se intenta posponer la evaluación de las cosas lo más posible, hasta cuando sea indispensable tener un valor calculado. Esto se logra guardando no el resultado de una expresión sino _cómo se calcula_ ese resultado. Los valores que aún no han sido evaluados se llaman _thunks_."
   ]
  },
  {
   "cell_type": "markdown",
   "metadata": {},
   "source": [
    "En la consola __`ghci`__, el comando __`:sprintf`__ permite ver el _thunk_ correspondiente a una variable."
   ]
  },
  {
   "cell_type": "code",
   "execution_count": 4,
   "metadata": {
    "ExecuteTime": {
     "end_time": "2018-07-01T00:20:28.047750Z",
     "start_time": "2018-07-01T00:20:27.902Z"
    },
    "slideshow": {
     "slide_type": "-"
    }
   },
   "outputs": [],
   "source": [
    "factorial 0 = 1\n",
    "factorial n = n * factorial (n-1)\n",
    "\n",
    "x :: [Int]\n",
    "x = map factorial [1..10]"
   ]
  },
  {
   "cell_type": "markdown",
   "metadata": {},
   "source": [
    "Como no aún no se necesita ninguna información o valor de __`x`__, no se evaluó nada, y por lo tanto el _thunk_ es __`_`__:"
   ]
  },
  {
   "cell_type": "code",
   "execution_count": null,
   "metadata": {
    "collapsed": true,
    "slideshow": {
     "slide_type": "slide"
    }
   },
   "outputs": [],
   "source": [
    ":sprint x\n",
    "-- x = _"
   ]
  },
  {
   "cell_type": "markdown",
   "metadata": {
    "slideshow": {
     "slide_type": "-"
    }
   },
   "source": [
    "Para calcular el length, no hace falta saber qué hay en la lista, sólo cuántas cosas hay:"
   ]
  },
  {
   "cell_type": "code",
   "execution_count": 5,
   "metadata": {
    "ExecuteTime": {
     "end_time": "2018-07-01T00:20:30.698923Z",
     "start_time": "2018-07-01T00:20:30.260Z"
    },
    "slideshow": {
     "slide_type": "fragment"
    }
   },
   "outputs": [
    {
     "data": {
      "text/plain": [
       "10"
      ]
     },
     "metadata": {},
     "output_type": "display_data"
    }
   ],
   "source": [
    "length x"
   ]
  },
  {
   "cell_type": "code",
   "execution_count": null,
   "metadata": {
    "collapsed": true,
    "slideshow": {
     "slide_type": "fragment"
    }
   },
   "outputs": [],
   "source": [
    ":sprint x\n",
    "-- x = [_,_,_,_,_,_,_,_,_,_]"
   ]
  },
  {
   "cell_type": "markdown",
   "metadata": {},
   "source": [
    "Si se necesita sólo un valor de la lista __`x`__, sólo ese es calculado:"
   ]
  },
  {
   "cell_type": "code",
   "execution_count": 6,
   "metadata": {
    "ExecuteTime": {
     "end_time": "2018-07-01T00:20:32.711953Z",
     "start_time": "2018-07-01T00:20:32.380Z"
    },
    "slideshow": {
     "slide_type": "fragment"
    }
   },
   "outputs": [
    {
     "data": {
      "text/plain": [
       "3628800"
      ]
     },
     "metadata": {},
     "output_type": "display_data"
    }
   ],
   "source": [
    "x!!9"
   ]
  },
  {
   "cell_type": "code",
   "execution_count": null,
   "metadata": {
    "collapsed": true,
    "slideshow": {
     "slide_type": "fragment"
    }
   },
   "outputs": [],
   "source": [
    ":sprint x\n",
    "-- x = [_,_,_,_,_,_,_,_,_,3628800]"
   ]
  },
  {
   "cell_type": "markdown",
   "metadata": {
    "slideshow": {
     "slide_type": "slide"
    }
   },
   "source": [
    "## Recursividad"
   ]
  },
  {
   "cell_type": "markdown",
   "metadata": {
    "slideshow": {
     "slide_type": "-"
    }
   },
   "source": [
    "La recursividad es muy importante en Haskell por ser un lenguaje funcional: no se define cómo __hacer__ las cosas sino cómo __son__ las cosas."
   ]
  },
  {
   "cell_type": "markdown",
   "metadata": {
    "slideshow": {
     "slide_type": "slide"
    }
   },
   "source": [
    "Ejemplo: el máximo de una lista es el máximo entre el primer elemento y el máximo del resto de la lista."
   ]
  },
  {
   "cell_type": "code",
   "execution_count": 7,
   "metadata": {
    "ExecuteTime": {
     "end_time": "2018-07-01T00:20:37.068117Z",
     "start_time": "2018-07-01T00:20:36.678Z"
    },
    "slideshow": {
     "slide_type": "-"
    }
   },
   "outputs": [
    {
     "data": {
      "text/plain": [
       "'z'"
      ]
     },
     "metadata": {},
     "output_type": "display_data"
    }
   ],
   "source": [
    "maxim :: (Ord a) => [a] -> a\n",
    "maxim [] = error \"Máximo de una lista vacía\"\n",
    "maxim [x] = x\n",
    "maxim (x:xs)\n",
    "    | x > maxTail = x\n",
    "    | otherwise   = maxTail\n",
    "    where maxTail = maxim xs\n",
    "\n",
    "print (maxim ['a','b','z','f','h'])"
   ]
  },
  {
   "cell_type": "markdown",
   "metadata": {
    "slideshow": {
     "slide_type": "slide"
    }
   },
   "source": [
    "Ejemplo: __`repl`__ recibe un numero __`n`__ y un valor de cualquier tipo. Devuelve una lista del valor replicado __`n`__ veces. "
   ]
  },
  {
   "cell_type": "code",
   "execution_count": 8,
   "metadata": {
    "ExecuteTime": {
     "end_time": "2018-07-01T00:20:38.488142Z",
     "start_time": "2018-07-01T00:20:38.149Z"
    },
    "slideshow": {
     "slide_type": "-"
    }
   },
   "outputs": [
    {
     "data": {
      "text/plain": [
       "[\"Haskell\",\"Haskell\",\"Haskell\",\"Haskell\",\"Haskell\"]"
      ]
     },
     "metadata": {},
     "output_type": "display_data"
    }
   ],
   "source": [
    "repl :: Int -> a -> [a]\n",
    "repl n x\n",
    "    | n <= 0    = []\n",
    "    | otherwise = x:repl (n-1) x\n",
    "\n",
    "print(repl 5 \"Haskell\")"
   ]
  },
  {
   "cell_type": "markdown",
   "metadata": {
    "ExecuteTime": {
     "end_time": "2018-07-01T00:56:28.024686Z",
     "start_time": "2018-07-01T00:56:28.005Z"
    }
   },
   "source": [
    "## Pattern Matching"
   ]
  },
  {
   "cell_type": "markdown",
   "metadata": {},
   "source": [
    "En el ejemplo del máximo de una lista se utilizó _pattern matching_. Esto es muy usado es Haskell, en especial con listas. En `maxim` decimos que para `[]`, la lista vacía, se lanza un error; para `[x]`, listas de un elemento, el resultado es ese mismo elemento; para listas de más de un elemento `(x:xs)`, el resultado es el máximo entre el primer elemento (que matchea con `x`) y el máximo del resto de la lista (que matchea con `xs`). \n",
    "En general en Haskell se suele definir una función matcheando con los distintos valores posibles (más adelante veremos más ejemplos de pattern matching):"
   ]
  },
  {
   "cell_type": "markdown",
   "metadata": {
    "ExecuteTime": {
     "end_time": "2018-07-01T01:04:58.374211Z",
     "start_time": "2018-07-01T01:04:58.351Z"
    }
   },
   "source": [
    "__Ejemplo__:"
   ]
  },
  {
   "cell_type": "code",
   "execution_count": 110,
   "metadata": {
    "ExecuteTime": {
     "end_time": "2018-07-01T01:03:15.345555Z",
     "start_time": "2018-07-01T01:03:15.117Z"
    }
   },
   "outputs": [],
   "source": [
    "unoODos 1 = True\n",
    "unoODos 2 = True\n",
    "unoODos _ = False"
   ]
  },
  {
   "cell_type": "markdown",
   "metadata": {},
   "source": [
    "Cuando se llama a `unoODos` se intenta matchear el argumento primero con 1: si coincide se devuelve `True`; después con 2: si coincide se devuelve `True`; por último si no se matcheó con los dos anteriores, para cualquier otro valor se devuelve `False`."
   ]
  },
  {
   "cell_type": "markdown",
   "metadata": {
    "slideshow": {
     "slide_type": "slide"
    }
   },
   "source": [
    "## Funciones currificadas"
   ]
  },
  {
   "cell_type": "markdown",
   "metadata": {
    "slideshow": {
     "slide_type": "-"
    }
   },
   "source": [
    "Cada función de Haskell toma __sólo un parametro__. \n",
    "\n",
    "¿Cómo hacemos para llamar a una función con mas de un parametro? Currificamos la función"
   ]
  },
  {
   "cell_type": "markdown",
   "metadata": {
    "slideshow": {
     "slide_type": "slide"
    }
   },
   "source": [
    "Ejemplo: multiplicación de 3 argumentos"
   ]
  },
  {
   "cell_type": "code",
   "execution_count": 10,
   "metadata": {
    "ExecuteTime": {
     "end_time": "2018-07-01T00:20:45.370991Z",
     "start_time": "2018-07-01T00:20:45.209Z"
    },
    "slideshow": {
     "slide_type": "-"
    }
   },
   "outputs": [],
   "source": [
    "multThree :: (Num a) => a -> a -> a -> a\n",
    "multThree x y z = x * y * z"
   ]
  },
  {
   "cell_type": "markdown",
   "metadata": {
    "slideshow": {
     "slide_type": "-"
    }
   },
   "source": [
    "Se puede leer como que __`multThree`__ toma un __`x`__ y devuelve otra función que recibe __`y`__. Esa función a su vez devuelve otra función que recibe __`z`__ y devuelve el resultado (la multiplicación de los 3). Se puede reescribir como:"
   ]
  },
  {
   "cell_type": "code",
   "execution_count": null,
   "metadata": {
    "ExecuteTime": {
     "end_time": "2018-07-01T00:20:50.389485Z",
     "start_time": "2018-07-01T00:20:50.367Z"
    },
    "slideshow": {
     "slide_type": "-"
    }
   },
   "outputs": [],
   "source": [
    "multThree :: (Num a) => a -> (a -> (a -> a))"
   ]
  },
  {
   "cell_type": "markdown",
   "metadata": {
    "slideshow": {
     "slide_type": "slide"
    }
   },
   "source": [
    "Pasando en limpio ... se van componiendo funciones que reciben un numero y devuelven otra función que a su vez recibe un numero y devuelve otro:"
   ]
  },
  {
   "cell_type": "code",
   "execution_count": 13,
   "metadata": {
    "ExecuteTime": {
     "end_time": "2018-07-01T00:21:16.445117Z",
     "start_time": "2018-07-01T00:21:16.278Z"
    },
    "slideshow": {
     "slide_type": "fragment"
    }
   },
   "outputs": [
    {
     "data": {
      "text/html": [
       "<style>/* Styles used for the Hoogle display in the pager */\n",
       ".hoogle-doc {\n",
       "display: block;\n",
       "padding-bottom: 1.3em;\n",
       "padding-left: 0.4em;\n",
       "}\n",
       ".hoogle-code {\n",
       "display: block;\n",
       "font-family: monospace;\n",
       "white-space: pre;\n",
       "}\n",
       ".hoogle-text {\n",
       "display: block;\n",
       "}\n",
       ".hoogle-name {\n",
       "color: green;\n",
       "font-weight: bold;\n",
       "}\n",
       ".hoogle-head {\n",
       "font-weight: bold;\n",
       "}\n",
       ".hoogle-sub {\n",
       "display: block;\n",
       "margin-left: 0.4em;\n",
       "}\n",
       ".hoogle-package {\n",
       "font-weight: bold;\n",
       "font-style: italic;\n",
       "}\n",
       ".hoogle-module {\n",
       "font-weight: bold;\n",
       "}\n",
       ".hoogle-class {\n",
       "font-weight: bold;\n",
       "}\n",
       ".get-type {\n",
       "color: green;\n",
       "font-weight: bold;\n",
       "font-family: monospace;\n",
       "display: block;\n",
       "white-space: pre-wrap;\n",
       "}\n",
       ".show-type {\n",
       "color: green;\n",
       "font-weight: bold;\n",
       "font-family: monospace;\n",
       "margin-left: 1em;\n",
       "}\n",
       ".mono {\n",
       "font-family: monospace;\n",
       "display: block;\n",
       "}\n",
       ".err-msg {\n",
       "color: red;\n",
       "font-style: italic;\n",
       "font-family: monospace;\n",
       "white-space: pre;\n",
       "display: block;\n",
       "}\n",
       "#unshowable {\n",
       "color: red;\n",
       "font-weight: bold;\n",
       "}\n",
       ".err-msg.in.collapse {\n",
       "padding-top: 0.7em;\n",
       "}\n",
       ".highlight-code {\n",
       "white-space: pre;\n",
       "font-family: monospace;\n",
       "}\n",
       ".suggestion-warning { \n",
       "font-weight: bold;\n",
       "color: rgb(200, 130, 0);\n",
       "}\n",
       ".suggestion-error { \n",
       "font-weight: bold;\n",
       "color: red;\n",
       "}\n",
       ".suggestion-name {\n",
       "font-weight: bold;\n",
       "}\n",
       "</style><span class='get-type'>multThree :: forall a. Num a => a -> a -> a -> a</span>"
      ],
      "text/plain": [
       "multThree :: forall a. Num a => a -> a -> a -> a"
      ]
     },
     "metadata": {},
     "output_type": "display_data"
    }
   ],
   "source": [
    ":t multThree "
   ]
  },
  {
   "cell_type": "code",
   "execution_count": 14,
   "metadata": {
    "ExecuteTime": {
     "end_time": "2018-07-01T00:21:17.562870Z",
     "start_time": "2018-07-01T00:21:17.394Z"
    },
    "slideshow": {
     "slide_type": "fragment"
    }
   },
   "outputs": [
    {
     "data": {
      "text/html": [
       "<style>/* Styles used for the Hoogle display in the pager */\n",
       ".hoogle-doc {\n",
       "display: block;\n",
       "padding-bottom: 1.3em;\n",
       "padding-left: 0.4em;\n",
       "}\n",
       ".hoogle-code {\n",
       "display: block;\n",
       "font-family: monospace;\n",
       "white-space: pre;\n",
       "}\n",
       ".hoogle-text {\n",
       "display: block;\n",
       "}\n",
       ".hoogle-name {\n",
       "color: green;\n",
       "font-weight: bold;\n",
       "}\n",
       ".hoogle-head {\n",
       "font-weight: bold;\n",
       "}\n",
       ".hoogle-sub {\n",
       "display: block;\n",
       "margin-left: 0.4em;\n",
       "}\n",
       ".hoogle-package {\n",
       "font-weight: bold;\n",
       "font-style: italic;\n",
       "}\n",
       ".hoogle-module {\n",
       "font-weight: bold;\n",
       "}\n",
       ".hoogle-class {\n",
       "font-weight: bold;\n",
       "}\n",
       ".get-type {\n",
       "color: green;\n",
       "font-weight: bold;\n",
       "font-family: monospace;\n",
       "display: block;\n",
       "white-space: pre-wrap;\n",
       "}\n",
       ".show-type {\n",
       "color: green;\n",
       "font-weight: bold;\n",
       "font-family: monospace;\n",
       "margin-left: 1em;\n",
       "}\n",
       ".mono {\n",
       "font-family: monospace;\n",
       "display: block;\n",
       "}\n",
       ".err-msg {\n",
       "color: red;\n",
       "font-style: italic;\n",
       "font-family: monospace;\n",
       "white-space: pre;\n",
       "display: block;\n",
       "}\n",
       "#unshowable {\n",
       "color: red;\n",
       "font-weight: bold;\n",
       "}\n",
       ".err-msg.in.collapse {\n",
       "padding-top: 0.7em;\n",
       "}\n",
       ".highlight-code {\n",
       "white-space: pre;\n",
       "font-family: monospace;\n",
       "}\n",
       ".suggestion-warning { \n",
       "font-weight: bold;\n",
       "color: rgb(200, 130, 0);\n",
       "}\n",
       ".suggestion-error { \n",
       "font-weight: bold;\n",
       "color: red;\n",
       "}\n",
       ".suggestion-name {\n",
       "font-weight: bold;\n",
       "}\n",
       "</style><span class='get-type'>multThree 1 :: forall a. Num a => a -> a -> a</span>"
      ],
      "text/plain": [
       "multThree 1 :: forall a. Num a => a -> a -> a"
      ]
     },
     "metadata": {},
     "output_type": "display_data"
    }
   ],
   "source": [
    ":t multThree 1"
   ]
  },
  {
   "cell_type": "code",
   "execution_count": 15,
   "metadata": {
    "ExecuteTime": {
     "end_time": "2018-07-01T00:21:18.509946Z",
     "start_time": "2018-07-01T00:21:18.357Z"
    },
    "slideshow": {
     "slide_type": "fragment"
    }
   },
   "outputs": [
    {
     "data": {
      "text/html": [
       "<style>/* Styles used for the Hoogle display in the pager */\n",
       ".hoogle-doc {\n",
       "display: block;\n",
       "padding-bottom: 1.3em;\n",
       "padding-left: 0.4em;\n",
       "}\n",
       ".hoogle-code {\n",
       "display: block;\n",
       "font-family: monospace;\n",
       "white-space: pre;\n",
       "}\n",
       ".hoogle-text {\n",
       "display: block;\n",
       "}\n",
       ".hoogle-name {\n",
       "color: green;\n",
       "font-weight: bold;\n",
       "}\n",
       ".hoogle-head {\n",
       "font-weight: bold;\n",
       "}\n",
       ".hoogle-sub {\n",
       "display: block;\n",
       "margin-left: 0.4em;\n",
       "}\n",
       ".hoogle-package {\n",
       "font-weight: bold;\n",
       "font-style: italic;\n",
       "}\n",
       ".hoogle-module {\n",
       "font-weight: bold;\n",
       "}\n",
       ".hoogle-class {\n",
       "font-weight: bold;\n",
       "}\n",
       ".get-type {\n",
       "color: green;\n",
       "font-weight: bold;\n",
       "font-family: monospace;\n",
       "display: block;\n",
       "white-space: pre-wrap;\n",
       "}\n",
       ".show-type {\n",
       "color: green;\n",
       "font-weight: bold;\n",
       "font-family: monospace;\n",
       "margin-left: 1em;\n",
       "}\n",
       ".mono {\n",
       "font-family: monospace;\n",
       "display: block;\n",
       "}\n",
       ".err-msg {\n",
       "color: red;\n",
       "font-style: italic;\n",
       "font-family: monospace;\n",
       "white-space: pre;\n",
       "display: block;\n",
       "}\n",
       "#unshowable {\n",
       "color: red;\n",
       "font-weight: bold;\n",
       "}\n",
       ".err-msg.in.collapse {\n",
       "padding-top: 0.7em;\n",
       "}\n",
       ".highlight-code {\n",
       "white-space: pre;\n",
       "font-family: monospace;\n",
       "}\n",
       ".suggestion-warning { \n",
       "font-weight: bold;\n",
       "color: rgb(200, 130, 0);\n",
       "}\n",
       ".suggestion-error { \n",
       "font-weight: bold;\n",
       "color: red;\n",
       "}\n",
       ".suggestion-name {\n",
       "font-weight: bold;\n",
       "}\n",
       "</style><span class='get-type'>multThree 1 2 :: forall a. Num a => a -> a</span>"
      ],
      "text/plain": [
       "multThree 1 2 :: forall a. Num a => a -> a"
      ]
     },
     "metadata": {},
     "output_type": "display_data"
    }
   ],
   "source": [
    ":t multThree 1 2"
   ]
  },
  {
   "cell_type": "markdown",
   "metadata": {
    "slideshow": {
     "slide_type": "slide"
    }
   },
   "source": [
    "¿Beneficios? Si llamamos a una función con parametros de menos, obtenemos una función __parcialmente aplicada__, que puede ser utilizada para crear otra función. \n",
    "\n",
    "Ejemplo: una función que recibe dos numeros y los multiplica por 9, utilizando la función __`multThree`__"
   ]
  },
  {
   "cell_type": "code",
   "execution_count": 16,
   "metadata": {
    "ExecuteTime": {
     "end_time": "2018-07-01T00:21:21.019508Z",
     "start_time": "2018-07-01T00:21:20.674Z"
    },
    "slideshow": {
     "slide_type": "-"
    }
   },
   "outputs": [
    {
     "data": {
      "text/plain": [
       "54"
      ]
     },
     "metadata": {},
     "output_type": "display_data"
    }
   ],
   "source": [
    "multThree :: (Num a) => a -> a -> a -> a\n",
    "multThree x y z = x * y * z\n",
    "\n",
    "multTwoWithNine = multThree 9\n",
    "multTwoWithNine 2 3"
   ]
  },
  {
   "cell_type": "markdown",
   "metadata": {
    "slideshow": {
     "slide_type": "slide"
    }
   },
   "source": [
    "## Funciones de Orden Superior"
   ]
  },
  {
   "cell_type": "markdown",
   "metadata": {
    "slideshow": {
     "slide_type": "-"
    }
   },
   "source": [
    "Como vimos recién, las funciones pueden tomar funciones como parámetros y devolver otras funciones.\n",
    "\n",
    "Ejemplo: __`applyTwice`__ recibe una función y un número, y devuelve la doble aplicación del número a la función."
   ]
  },
  {
   "cell_type": "code",
   "execution_count": 17,
   "metadata": {
    "ExecuteTime": {
     "end_time": "2018-07-01T00:21:22.802259Z",
     "start_time": "2018-07-01T00:21:22.607Z"
    },
    "slideshow": {
     "slide_type": "-"
    }
   },
   "outputs": [],
   "source": [
    "applyTwice :: (a -> a) -> a -> a\n",
    "applyTwice f x = f (f x)"
   ]
  },
  {
   "cell_type": "markdown",
   "metadata": {
    "slideshow": {
     "slide_type": "slide"
    }
   },
   "source": [
    "Utilizando la función __`multThree`__ que habíamos definido antes:"
   ]
  },
  {
   "cell_type": "code",
   "execution_count": 18,
   "metadata": {
    "ExecuteTime": {
     "end_time": "2018-07-01T00:21:24.883402Z",
     "start_time": "2018-07-01T00:21:24.550Z"
    },
    "slideshow": {
     "slide_type": "-"
    }
   },
   "outputs": [
    {
     "data": {
      "text/plain": [
       "48"
      ]
     },
     "metadata": {},
     "output_type": "display_data"
    }
   ],
   "source": [
    "applyTwice :: (a -> a) -> a -> a\n",
    "applyTwice f x = f (f x)\n",
    "\n",
    "multThree :: (Num a) => a -> a -> a -> a\n",
    "multThree x y z = x * y * z\n",
    "\n",
    "applyTwice (multThree 2 2) 3"
   ]
  },
  {
   "cell_type": "markdown",
   "metadata": {
    "ExecuteTime": {
     "end_time": "2018-07-01T00:42:00.099414Z",
     "start_time": "2018-07-01T00:42:00.085Z"
    }
   },
   "source": [
    "## Infix\n",
    "Todas las funciones de dos argumentos pueden utilizarse por defecto como operadores _infix_, indicándolas entre comillas simples ```."
   ]
  },
  {
   "cell_type": "markdown",
   "metadata": {
    "ExecuteTime": {
     "end_time": "2018-07-01T00:42:23.562885Z",
     "start_time": "2018-07-01T00:42:23.538Z"
    }
   },
   "source": [
    "__Ejemplo__:"
   ]
  },
  {
   "cell_type": "code",
   "execution_count": 77,
   "metadata": {
    "ExecuteTime": {
     "end_time": "2018-07-01T00:42:38.161788Z",
     "start_time": "2018-07-01T00:42:37.946Z"
    }
   },
   "outputs": [],
   "source": [
    "sumar a b = a + b"
   ]
  },
  {
   "cell_type": "code",
   "execution_count": 78,
   "metadata": {
    "ExecuteTime": {
     "end_time": "2018-07-01T00:42:49.299939Z",
     "start_time": "2018-07-01T00:42:48.986Z"
    }
   },
   "outputs": [
    {
     "data": {
      "text/plain": [
       "7"
      ]
     },
     "metadata": {},
     "output_type": "display_data"
    }
   ],
   "source": [
    "sumar 2 5"
   ]
  },
  {
   "cell_type": "markdown",
   "metadata": {
    "ExecuteTime": {
     "end_time": "2018-07-01T00:42:59.593809Z",
     "start_time": "2018-07-01T00:42:59.576Z"
    }
   },
   "source": [
    "Puede escribirse también:"
   ]
  },
  {
   "cell_type": "code",
   "execution_count": 80,
   "metadata": {
    "ExecuteTime": {
     "end_time": "2018-07-01T00:43:11.268300Z",
     "start_time": "2018-07-01T00:43:10.826Z"
    }
   },
   "outputs": [
    {
     "data": {
      "text/plain": [
       "7"
      ]
     },
     "metadata": {},
     "output_type": "display_data"
    }
   ],
   "source": [
    "2 `sumar` 5"
   ]
  },
  {
   "cell_type": "markdown",
   "metadata": {
    "ExecuteTime": {
     "end_time": "2018-07-01T00:43:57.316924Z",
     "start_time": "2018-07-01T00:43:57.286Z"
    }
   },
   "source": [
    "Por defecto, también todas las funciones cuyo nombre consiste sólo de caracteres especiales son _infix_ y no requieren las comillas."
   ]
  },
  {
   "cell_type": "markdown",
   "metadata": {
    "ExecuteTime": {
     "end_time": "2018-07-01T01:06:40.495280Z",
     "start_time": "2018-07-01T01:06:40.486Z"
    }
   },
   "source": [
    "__Ejemplo__:"
   ]
  },
  {
   "cell_type": "code",
   "execution_count": 95,
   "metadata": {
    "ExecuteTime": {
     "end_time": "2018-07-01T00:46:57.360267Z",
     "start_time": "2018-07-01T00:46:57.196Z"
    }
   },
   "outputs": [],
   "source": [
    "(?=) a b = a*2 + b"
   ]
  },
  {
   "cell_type": "code",
   "execution_count": 97,
   "metadata": {
    "ExecuteTime": {
     "end_time": "2018-07-01T00:47:07.709510Z",
     "start_time": "2018-07-01T00:47:07.405Z"
    }
   },
   "outputs": [
    {
     "data": {
      "text/plain": [
       "7"
      ]
     },
     "metadata": {},
     "output_type": "display_data"
    }
   ],
   "source": [
    "2 ?= 3"
   ]
  },
  {
   "cell_type": "markdown",
   "metadata": {},
   "source": [
    "## Composición y aplicación de funciones"
   ]
  },
  {
   "cell_type": "markdown",
   "metadata": {},
   "source": [
    "En Haskell hay definidas dos funciones muy útiles, `.` y `$`. Ambas reciben dos argumentos, y son comúnmente usadas como operadores _infix_: es decir, un argumento a su izquierda, luego la función, y luego el segundo argumento a su derecha.\n",
    "La primera sirve para obtener una nueva función que es la composición de otras dos funciones:"
   ]
  },
  {
   "cell_type": "markdown",
   "metadata": {},
   "source": [
    "__Ejemplo__:"
   ]
  },
  {
   "cell_type": "code",
   "execution_count": 98,
   "metadata": {
    "ExecuteTime": {
     "end_time": "2018-07-01T00:47:15.873739Z",
     "start_time": "2018-07-01T00:47:15.698Z"
    }
   },
   "outputs": [],
   "source": [
    "mas2 x = x + 2\n",
    "por3 x = x * 3\n",
    "mas2por3 = por3 . mas2"
   ]
  },
  {
   "cell_type": "markdown",
   "metadata": {
    "ExecuteTime": {
     "end_time": "2018-07-01T00:36:54.772095Z",
     "start_time": "2018-07-01T00:36:54.755Z"
    }
   },
   "source": [
    "La función `mas2por3` aplica primero `mas2` y al resultado obtenido, le aplica `por3`:"
   ]
  },
  {
   "cell_type": "code",
   "execution_count": 73,
   "metadata": {
    "ExecuteTime": {
     "end_time": "2018-07-01T00:37:26.433628Z",
     "start_time": "2018-07-01T00:37:26.141Z"
    }
   },
   "outputs": [
    {
     "data": {
      "text/plain": [
       "21"
      ]
     },
     "metadata": {},
     "output_type": "display_data"
    }
   ],
   "source": [
    "mas2por3 5 -- (5+2)*3 = 21"
   ]
  },
  {
   "cell_type": "markdown",
   "metadata": {},
   "source": [
    "La segunda tiene una utilidad no tan obvia, pero es igualmente muy usada: recibe una función y un argumento y llama a la función con ese argumento. Todo lo que esté a su derecha será usado como argumento a la función."
   ]
  },
  {
   "cell_type": "code",
   "execution_count": 107,
   "metadata": {
    "ExecuteTime": {
     "end_time": "2018-07-01T00:52:33.465376Z",
     "start_time": "2018-07-01T00:52:33.101Z"
    }
   },
   "outputs": [
    {
     "data": {
      "text/html": [
       "<style>/* Styles used for the Hoogle display in the pager */\n",
       ".hoogle-doc {\n",
       "display: block;\n",
       "padding-bottom: 1.3em;\n",
       "padding-left: 0.4em;\n",
       "}\n",
       ".hoogle-code {\n",
       "display: block;\n",
       "font-family: monospace;\n",
       "white-space: pre;\n",
       "}\n",
       ".hoogle-text {\n",
       "display: block;\n",
       "}\n",
       ".hoogle-name {\n",
       "color: green;\n",
       "font-weight: bold;\n",
       "}\n",
       ".hoogle-head {\n",
       "font-weight: bold;\n",
       "}\n",
       ".hoogle-sub {\n",
       "display: block;\n",
       "margin-left: 0.4em;\n",
       "}\n",
       ".hoogle-package {\n",
       "font-weight: bold;\n",
       "font-style: italic;\n",
       "}\n",
       ".hoogle-module {\n",
       "font-weight: bold;\n",
       "}\n",
       ".hoogle-class {\n",
       "font-weight: bold;\n",
       "}\n",
       ".get-type {\n",
       "color: green;\n",
       "font-weight: bold;\n",
       "font-family: monospace;\n",
       "display: block;\n",
       "white-space: pre-wrap;\n",
       "}\n",
       ".show-type {\n",
       "color: green;\n",
       "font-weight: bold;\n",
       "font-family: monospace;\n",
       "margin-left: 1em;\n",
       "}\n",
       ".mono {\n",
       "font-family: monospace;\n",
       "display: block;\n",
       "}\n",
       ".err-msg {\n",
       "color: red;\n",
       "font-style: italic;\n",
       "font-family: monospace;\n",
       "white-space: pre;\n",
       "display: block;\n",
       "}\n",
       "#unshowable {\n",
       "color: red;\n",
       "font-weight: bold;\n",
       "}\n",
       ".err-msg.in.collapse {\n",
       "padding-top: 0.7em;\n",
       "}\n",
       ".highlight-code {\n",
       "white-space: pre;\n",
       "font-family: monospace;\n",
       "}\n",
       ".suggestion-warning { \n",
       "font-weight: bold;\n",
       "color: rgb(200, 130, 0);\n",
       "}\n",
       ".suggestion-error { \n",
       "font-weight: bold;\n",
       "color: red;\n",
       "}\n",
       ".suggestion-name {\n",
       "font-weight: bold;\n",
       "}\n",
       "</style><div class=\"suggestion-name\" style=\"clear:both;\">Redundant $</div><div class=\"suggestion-row\" style=\"float: left;\"><div class=\"suggestion-warning\">Found:</div><div class=\"highlight-code\" id=\"haskell\">mas2 $ 5</div></div><div class=\"suggestion-row\" style=\"float: left;\"><div class=\"suggestion-warning\">Why Not:</div><div class=\"highlight-code\" id=\"haskell\">mas2 5</div></div>"
      ],
      "text/plain": [
       "Line 1: Redundant $\n",
       "Found:\n",
       "mas2 $ 5\n",
       "Why not:\n",
       "mas2 5"
      ]
     },
     "metadata": {},
     "output_type": "display_data"
    },
    {
     "data": {
      "text/plain": [
       "7"
      ]
     },
     "metadata": {},
     "output_type": "display_data"
    }
   ],
   "source": [
    "mas2 $ 5 -- el compilador nos indica que no hace falta $ en este caso, porque da lo mismo"
   ]
  },
  {
   "cell_type": "markdown",
   "metadata": {
    "ExecuteTime": {
     "end_time": "2018-07-01T00:48:04.868417Z",
     "start_time": "2018-07-01T00:48:04.846Z"
    }
   },
   "source": [
    "Un uso muy común es junto con la composición de funciones:"
   ]
  },
  {
   "cell_type": "code",
   "execution_count": 102,
   "metadata": {
    "ExecuteTime": {
     "end_time": "2018-07-01T00:49:11.758655Z",
     "start_time": "2018-07-01T00:49:11.479Z"
    }
   },
   "outputs": [],
   "source": [
    "por5mas2por3 x = por3 . mas2 $ 5*x"
   ]
  },
  {
   "cell_type": "code",
   "execution_count": 106,
   "metadata": {
    "ExecuteTime": {
     "end_time": "2018-07-01T00:51:01.652343Z",
     "start_time": "2018-07-01T00:51:01.261Z"
    }
   },
   "outputs": [
    {
     "data": {
      "text/plain": [
       "111"
      ]
     },
     "metadata": {},
     "output_type": "display_data"
    }
   ],
   "source": [
    "por5mas2por3 7 -- ((7*5)+2)*3"
   ]
  },
  {
   "cell_type": "markdown",
   "metadata": {
    "slideshow": {
     "slide_type": "slide"
    }
   },
   "source": [
    "# Comparando con Java"
   ]
  },
  {
   "cell_type": "markdown",
   "metadata": {},
   "source": [
    "Usando los conceptos anteriores, y algunos otros como por ejemplo expresiones `let <binding> in <expresion>` o _list comprehensions_, que no cubrimos para no hacer el trabajo demasiado extenso, a continuación se muestra un ejemplo de _quicksort_ en Haskell, y luego el mismo algoritmo en Java, donde se ve la gran expresividad de Haskell que permite escribir código mucho más claro y conciso."
   ]
  },
  {
   "cell_type": "markdown",
   "metadata": {
    "slideshow": {
     "slide_type": "slide"
    }
   },
   "source": [
    "### Quicksort Haskell "
   ]
  },
  {
   "cell_type": "code",
   "execution_count": 9,
   "metadata": {
    "ExecuteTime": {
     "end_time": "2018-07-01T00:20:41.859903Z",
     "start_time": "2018-07-01T00:20:41.467Z"
    },
    "slideshow": {
     "slide_type": "-"
    }
   },
   "outputs": [
    {
     "data": {
      "text/plain": [
       "[2,2,12,20,24,45,53,56,56,75,99]"
      ]
     },
     "metadata": {},
     "output_type": "display_data"
    }
   ],
   "source": [
    "quicksort :: (Ord a) => [a] -> [a]\n",
    "quicksort [] = []\n",
    "quicksort (x:xs) =\n",
    "    let smallerSorted = quicksort [a | a <- xs, a <= x]\n",
    "        biggerSorted  = quicksort [a | a <- xs, a > x]\n",
    "    in  smallerSorted ++ [x] ++ biggerSorted\n",
    "\n",
    "quicksort [24,2,45,20,56,75,2,56,99,53,12]"
   ]
  },
  {
   "cell_type": "markdown",
   "metadata": {
    "slideshow": {
     "slide_type": "-"
    }
   },
   "source": [
    "### Quicksort Java"
   ]
  },
  {
   "cell_type": "code",
   "execution_count": null,
   "metadata": {
    "collapsed": true,
    "slideshow": {
     "slide_type": "-"
    }
   },
   "outputs": [],
   "source": [
    "package com.java2novice.sorting;\n",
    " \n",
    "public class MyQuickSort {\n",
    "     \n",
    "    private int array[];\n",
    "    private int length;\n",
    " \n",
    "    public void sort(int[] inputArr) {\n",
    "         \n",
    "        if (inputArr == null || inputArr.length == 0) {\n",
    "            return;\n",
    "        }\n",
    "        this.array = inputArr;\n",
    "        length = inputArr.length;\n",
    "        quickSort(0, length - 1);\n",
    "    }\n",
    " \n",
    "    private void quickSort(int lowerIndex, int higherIndex) {\n",
    "         \n",
    "        int i = lowerIndex;\n",
    "        int j = higherIndex;\n",
    "        int pivot = array[lowerIndex+(higherIndex-lowerIndex)/2];\n",
    "        while (i <= j) {\n",
    "            while (array[i] < pivot) {\n",
    "                i++;\n",
    "            }\n",
    "            while (array[j] > pivot) {\n",
    "                j--;\n",
    "            }\n",
    "            if (i <= j) {\n",
    "                exchangeNumbers(i, j);\n",
    "                i++;\n",
    "                j--;\n",
    "            }\n",
    "        }\n",
    "        if (lowerIndex < j)\n",
    "            quickSort(lowerIndex, j);\n",
    "        if (i < higherIndex)\n",
    "            quickSort(i, higherIndex);\n",
    "    }\n",
    " \n",
    "    private void exchangeNumbers(int i, int j) {\n",
    "        int temp = array[i];\n",
    "        array[i] = array[j];\n",
    "        array[j] = temp;\n",
    "    }\n",
    "     \n",
    "    public static void main(String a[]){\n",
    "         \n",
    "        MyQuickSort sorter = new MyQuickSort();\n",
    "        int[] input = {24,2,45,20,56,75,2,56,99,53,12};\n",
    "        sorter.sort(input);\n",
    "        for(int i:input){\n",
    "            System.out.print(i);\n",
    "            System.out.print(\" \");\n",
    "        }\n",
    "    }\n",
    "}"
   ]
  },
  {
   "cell_type": "markdown",
   "metadata": {},
   "source": [
    "# Conceptos avanzados"
   ]
  },
  {
   "cell_type": "markdown",
   "metadata": {},
   "source": [
    "Ya habiendo visto los conceptos más sencillos de Haskell, se puede pasar a los temas más avanzados, como tipos de datos algebraicos, _monads_, IO y concurrencia."
   ]
  },
  {
   "cell_type": "markdown",
   "metadata": {
    "slideshow": {
     "slide_type": "slide"
    }
   },
   "source": [
    "## Tipos de datos algebraicos"
   ]
  },
  {
   "cell_type": "markdown",
   "metadata": {
    "slideshow": {
     "slide_type": "slide"
    }
   },
   "source": [
    "### Enumeraciones\n",
    "Los tipos de datos más simples que pueden definirse en Haskell son las enumeraciones, equivalentes a los __`enum`__ de C. Para ello se utiliza la palabra clave __`data`__ seguida del nombre que se quiere dar al nuevo tipo, seguido de los distintos valores que puede tomar el tipo de dato separados por el caracter __`|`__ (_pipe_)."
   ]
  },
  {
   "cell_type": "markdown",
   "metadata": {},
   "source": [
    "Ejemplo: tipo de dato __`Color`__ que puede tomar los valores __`Red`__, __`Green`__ o __`Blue`__."
   ]
  },
  {
   "cell_type": "code",
   "execution_count": 19,
   "metadata": {
    "ExecuteTime": {
     "end_time": "2018-07-01T00:21:27.221324Z",
     "start_time": "2018-07-01T00:21:27.059Z"
    },
    "slideshow": {
     "slide_type": "-"
    }
   },
   "outputs": [],
   "source": [
    "data Color = Red | Green | Blue"
   ]
  },
  {
   "cell_type": "code",
   "execution_count": 20,
   "metadata": {
    "ExecuteTime": {
     "end_time": "2018-07-01T00:21:28.111254Z",
     "start_time": "2018-07-01T00:21:27.939Z"
    },
    "slideshow": {
     "slide_type": "-"
    }
   },
   "outputs": [],
   "source": [
    "color :: Color\n",
    "color = Red -- o Green, o Blue"
   ]
  },
  {
   "cell_type": "markdown",
   "metadata": {
    "slideshow": {
     "slide_type": "slide"
    }
   },
   "source": [
    "### Constructores con argumentos"
   ]
  },
  {
   "cell_type": "markdown",
   "metadata": {},
   "source": [
    "Los valores de una enumeración son en realidad funciones, llamadas _constructores_, y pueden tomar ninguno, como en el ejemplo anterior, o varios parámetros, como se verá a continuación."
   ]
  },
  {
   "cell_type": "markdown",
   "metadata": {},
   "source": [
    "Ejemplo: el tipo de dato __`TreeInt`__ representa árboles binarios que en cada nodo tienen un valor de tipo __`Int`__."
   ]
  },
  {
   "cell_type": "code",
   "execution_count": 21,
   "metadata": {
    "ExecuteTime": {
     "end_time": "2018-07-01T00:21:31.732860Z",
     "start_time": "2018-07-01T00:21:31.542Z"
    },
    "slideshow": {
     "slide_type": "-"
    }
   },
   "outputs": [],
   "source": [
    "data TreeInt = Nil | Node TreeInt Int TreeInt"
   ]
  },
  {
   "cell_type": "markdown",
   "metadata": {
    "slideshow": {
     "slide_type": "-"
    }
   },
   "source": [
    "Un árbol binario de __`Int`__ es:\n",
    "* un árbol vacío (constructor __`Nil`__); o bien\n",
    "* un nodo raíz (constructor __`Node`__) cuyos hijos izquierdo y derecho también son árboles (__`TreeInt`__) y guarda un __`Int`__ como dato."
   ]
  },
  {
   "cell_type": "markdown",
   "metadata": {},
   "source": [
    "El constructor __`Nil`__ no recibe ningún argumento, podría decirse que es simplemente un _valor_."
   ]
  },
  {
   "cell_type": "code",
   "execution_count": 22,
   "metadata": {
    "ExecuteTime": {
     "end_time": "2018-07-01T00:21:34.096750Z",
     "start_time": "2018-07-01T00:21:33.919Z"
    }
   },
   "outputs": [
    {
     "data": {
      "text/html": [
       "<style>/* Styles used for the Hoogle display in the pager */\n",
       ".hoogle-doc {\n",
       "display: block;\n",
       "padding-bottom: 1.3em;\n",
       "padding-left: 0.4em;\n",
       "}\n",
       ".hoogle-code {\n",
       "display: block;\n",
       "font-family: monospace;\n",
       "white-space: pre;\n",
       "}\n",
       ".hoogle-text {\n",
       "display: block;\n",
       "}\n",
       ".hoogle-name {\n",
       "color: green;\n",
       "font-weight: bold;\n",
       "}\n",
       ".hoogle-head {\n",
       "font-weight: bold;\n",
       "}\n",
       ".hoogle-sub {\n",
       "display: block;\n",
       "margin-left: 0.4em;\n",
       "}\n",
       ".hoogle-package {\n",
       "font-weight: bold;\n",
       "font-style: italic;\n",
       "}\n",
       ".hoogle-module {\n",
       "font-weight: bold;\n",
       "}\n",
       ".hoogle-class {\n",
       "font-weight: bold;\n",
       "}\n",
       ".get-type {\n",
       "color: green;\n",
       "font-weight: bold;\n",
       "font-family: monospace;\n",
       "display: block;\n",
       "white-space: pre-wrap;\n",
       "}\n",
       ".show-type {\n",
       "color: green;\n",
       "font-weight: bold;\n",
       "font-family: monospace;\n",
       "margin-left: 1em;\n",
       "}\n",
       ".mono {\n",
       "font-family: monospace;\n",
       "display: block;\n",
       "}\n",
       ".err-msg {\n",
       "color: red;\n",
       "font-style: italic;\n",
       "font-family: monospace;\n",
       "white-space: pre;\n",
       "display: block;\n",
       "}\n",
       "#unshowable {\n",
       "color: red;\n",
       "font-weight: bold;\n",
       "}\n",
       ".err-msg.in.collapse {\n",
       "padding-top: 0.7em;\n",
       "}\n",
       ".highlight-code {\n",
       "white-space: pre;\n",
       "font-family: monospace;\n",
       "}\n",
       ".suggestion-warning { \n",
       "font-weight: bold;\n",
       "color: rgb(200, 130, 0);\n",
       "}\n",
       ".suggestion-error { \n",
       "font-weight: bold;\n",
       "color: red;\n",
       "}\n",
       ".suggestion-name {\n",
       "font-weight: bold;\n",
       "}\n",
       "</style><span class='get-type'>Nil :: TreeInt</span>"
      ],
      "text/plain": [
       "Nil :: TreeInt"
      ]
     },
     "metadata": {},
     "output_type": "display_data"
    }
   ],
   "source": [
    ":t Nil"
   ]
  },
  {
   "cell_type": "markdown",
   "metadata": {
    "slideshow": {
     "slide_type": "-"
    }
   },
   "source": [
    "El constructor __`Node`__ recibe tres argumentos:\n",
    "* hijo izquierdo (de tipo __`TreeInt`__)\n",
    "* valor (de tipo __`Int`__)\n",
    "* hijo derecho (de tipo __`TreeInt`__)"
   ]
  },
  {
   "cell_type": "code",
   "execution_count": 23,
   "metadata": {
    "ExecuteTime": {
     "end_time": "2018-07-01T00:21:37.662436Z",
     "start_time": "2018-07-01T00:21:37.490Z"
    },
    "slideshow": {
     "slide_type": "-"
    }
   },
   "outputs": [
    {
     "data": {
      "text/html": [
       "<style>/* Styles used for the Hoogle display in the pager */\n",
       ".hoogle-doc {\n",
       "display: block;\n",
       "padding-bottom: 1.3em;\n",
       "padding-left: 0.4em;\n",
       "}\n",
       ".hoogle-code {\n",
       "display: block;\n",
       "font-family: monospace;\n",
       "white-space: pre;\n",
       "}\n",
       ".hoogle-text {\n",
       "display: block;\n",
       "}\n",
       ".hoogle-name {\n",
       "color: green;\n",
       "font-weight: bold;\n",
       "}\n",
       ".hoogle-head {\n",
       "font-weight: bold;\n",
       "}\n",
       ".hoogle-sub {\n",
       "display: block;\n",
       "margin-left: 0.4em;\n",
       "}\n",
       ".hoogle-package {\n",
       "font-weight: bold;\n",
       "font-style: italic;\n",
       "}\n",
       ".hoogle-module {\n",
       "font-weight: bold;\n",
       "}\n",
       ".hoogle-class {\n",
       "font-weight: bold;\n",
       "}\n",
       ".get-type {\n",
       "color: green;\n",
       "font-weight: bold;\n",
       "font-family: monospace;\n",
       "display: block;\n",
       "white-space: pre-wrap;\n",
       "}\n",
       ".show-type {\n",
       "color: green;\n",
       "font-weight: bold;\n",
       "font-family: monospace;\n",
       "margin-left: 1em;\n",
       "}\n",
       ".mono {\n",
       "font-family: monospace;\n",
       "display: block;\n",
       "}\n",
       ".err-msg {\n",
       "color: red;\n",
       "font-style: italic;\n",
       "font-family: monospace;\n",
       "white-space: pre;\n",
       "display: block;\n",
       "}\n",
       "#unshowable {\n",
       "color: red;\n",
       "font-weight: bold;\n",
       "}\n",
       ".err-msg.in.collapse {\n",
       "padding-top: 0.7em;\n",
       "}\n",
       ".highlight-code {\n",
       "white-space: pre;\n",
       "font-family: monospace;\n",
       "}\n",
       ".suggestion-warning { \n",
       "font-weight: bold;\n",
       "color: rgb(200, 130, 0);\n",
       "}\n",
       ".suggestion-error { \n",
       "font-weight: bold;\n",
       "color: red;\n",
       "}\n",
       ".suggestion-name {\n",
       "font-weight: bold;\n",
       "}\n",
       "</style><span class='get-type'>Node :: TreeInt -> Int -> TreeInt -> TreeInt</span>"
      ],
      "text/plain": [
       "Node :: TreeInt -> Int -> TreeInt -> TreeInt"
      ]
     },
     "metadata": {},
     "output_type": "display_data"
    }
   ],
   "source": [
    ":t Node"
   ]
  },
  {
   "cell_type": "code",
   "execution_count": 24,
   "metadata": {
    "ExecuteTime": {
     "end_time": "2018-07-01T00:21:38.694853Z",
     "start_time": "2018-07-01T00:21:38.519Z"
    },
    "slideshow": {
     "slide_type": "-"
    }
   },
   "outputs": [],
   "source": [
    "t :: TreeInt -- No hace falta\n",
    "t = Node (Node Nil 2 Nil) 1 (Node (Node Nil 4 Nil) 3 (Node Nil 5 Nil))"
   ]
  },
  {
   "cell_type": "markdown",
   "metadata": {
    "slideshow": {
     "slide_type": "slide"
    }
   },
   "source": [
    "### _Type variables_"
   ]
  },
  {
   "cell_type": "markdown",
   "metadata": {
    "slideshow": {
     "slide_type": "-"
    }
   },
   "source": [
    "Es posible hacer tipos de datos \"genéricos\" o \"polimórficos\" con __variables de tipo__ (_type variables_), es decir, variables que en lugar de tomar valores como __`2`__, __`'a'`__, o __`[1,2,3]`__, toman como valores _tipos de datos_, como __`Int`__, __`Char`__, o __`[Int]`__."
   ]
  },
  {
   "cell_type": "markdown",
   "metadata": {},
   "source": [
    "Ejemplo: el tipo de datos __`Tree a`__ representa árboles binarios que en cada nodo tienen valores de tipo __`a`__."
   ]
  },
  {
   "cell_type": "code",
   "execution_count": 25,
   "metadata": {
    "ExecuteTime": {
     "end_time": "2018-07-01T00:21:44.120772Z",
     "start_time": "2018-07-01T00:21:43.949Z"
    },
    "slideshow": {
     "slide_type": "-"
    }
   },
   "outputs": [],
   "source": [
    "data Tree a = Nil | Node (Tree a) a (Tree a)"
   ]
  },
  {
   "cell_type": "code",
   "execution_count": 26,
   "metadata": {
    "ExecuteTime": {
     "end_time": "2018-07-01T00:21:45.088862Z",
     "start_time": "2018-07-01T00:21:44.943Z"
    },
    "slideshow": {
     "slide_type": "slide"
    }
   },
   "outputs": [],
   "source": [
    "-- Árbol binario de __`Char`__\n",
    "\n",
    "t :: Tree Char\n",
    "t = Node (Node Nil 'b' Nil) 'a' (Node (Node Nil 'd' Nil) 'c' (Node Nil 'e' Nil))"
   ]
  },
  {
   "cell_type": "code",
   "execution_count": 27,
   "metadata": {
    "ExecuteTime": {
     "end_time": "2018-07-01T00:21:46.127042Z",
     "start_time": "2018-07-01T00:21:45.936Z"
    },
    "slideshow": {
     "slide_type": "-"
    }
   },
   "outputs": [],
   "source": [
    "-- Árbol binario de __`Int`__\n",
    "\n",
    "t :: Tree Int\n",
    "t = Node (Node Nil 2 Nil) 1 (Node (Node Nil 4 Nil) 3 (Node Nil 5 Nil))"
   ]
  },
  {
   "cell_type": "markdown",
   "metadata": {
    "slideshow": {
     "slide_type": "slide"
    }
   },
   "source": [
    "Pueden usarse varias variables de tipo:"
   ]
  },
  {
   "cell_type": "code",
   "execution_count": 28,
   "metadata": {
    "ExecuteTime": {
     "end_time": "2018-07-01T00:21:47.489533Z",
     "start_time": "2018-07-01T00:21:47.285Z"
    },
    "slideshow": {
     "slide_type": "-"
    }
   },
   "outputs": [],
   "source": [
    "data Either a b = Left a | Right b"
   ]
  },
  {
   "cell_type": "markdown",
   "metadata": {
    "slideshow": {
     "slide_type": "-"
    }
   },
   "source": [
    "* Si se usa __`Left`__, se espera un valor de tipo __`a`__\n",
    "* Si se usa __`Right`__, se espera un valor de tipo __`b`__"
   ]
  },
  {
   "cell_type": "code",
   "execution_count": 29,
   "metadata": {
    "ExecuteTime": {
     "end_time": "2018-07-01T00:21:49.691712Z",
     "start_time": "2018-07-01T00:21:49.541Z"
    },
    "slideshow": {
     "slide_type": "slide"
    }
   },
   "outputs": [],
   "source": [
    "intChar1 :: Either Int Char\n",
    "intChar1 = Left 1\n",
    "\n",
    "intChar2 :: Either Int Char\n",
    "intChar2 = Right 'a'"
   ]
  },
  {
   "cell_type": "markdown",
   "metadata": {
    "slideshow": {
     "slide_type": "slide"
    }
   },
   "source": [
    "### Pattern matching"
   ]
  },
  {
   "cell_type": "markdown",
   "metadata": {
    "slideshow": {
     "slide_type": "-"
    }
   },
   "source": [
    "Cuando se hace _pattern matching_ __se matchean los constructores__."
   ]
  },
  {
   "cell_type": "markdown",
   "metadata": {},
   "source": [
    "Ejemplo: __`leftOrRight`__ toma un __`Either a b`__ y devuelve __`\"Left\"`__ o __`\"Right\"`__ según el constructor que se haya usado."
   ]
  },
  {
   "cell_type": "code",
   "execution_count": 30,
   "metadata": {
    "ExecuteTime": {
     "end_time": "2018-07-01T00:21:53.791933Z",
     "start_time": "2018-07-01T00:21:53.620Z"
    },
    "slideshow": {
     "slide_type": "-"
    }
   },
   "outputs": [],
   "source": [
    "leftOrRight :: Either a b -> String\n",
    "leftOrRight (Left _) = \"Left\"\n",
    "leftOrRight (Right _) = \"Right\""
   ]
  },
  {
   "cell_type": "code",
   "execution_count": 31,
   "metadata": {
    "ExecuteTime": {
     "end_time": "2018-07-01T00:21:54.848149Z",
     "start_time": "2018-07-01T00:21:54.497Z"
    },
    "slideshow": {
     "slide_type": "-"
    }
   },
   "outputs": [
    {
     "data": {
      "text/plain": [
       "\"Left\""
      ]
     },
     "metadata": {},
     "output_type": "display_data"
    }
   ],
   "source": [
    "leftOrRight intChar1"
   ]
  },
  {
   "cell_type": "code",
   "execution_count": 32,
   "metadata": {
    "ExecuteTime": {
     "end_time": "2018-07-01T00:21:56.103667Z",
     "start_time": "2018-07-01T00:21:55.739Z"
    },
    "slideshow": {
     "slide_type": "-"
    }
   },
   "outputs": [
    {
     "data": {
      "text/plain": [
       "\"Right\""
      ]
     },
     "metadata": {},
     "output_type": "display_data"
    }
   ],
   "source": [
    "leftOrRight intChar2"
   ]
  },
  {
   "cell_type": "markdown",
   "metadata": {},
   "source": [
    "Ejemplo: función __`length`__ que devuelve el largo de una lista."
   ]
  },
  {
   "cell_type": "code",
   "execution_count": 33,
   "metadata": {
    "ExecuteTime": {
     "end_time": "2018-07-01T00:21:57.141550Z",
     "start_time": "2018-07-01T00:21:56.864Z"
    },
    "slideshow": {
     "slide_type": "slide"
    }
   },
   "outputs": [
    {
     "data": {
      "text/html": [
       "<style>/* Styles used for the Hoogle display in the pager */\n",
       ".hoogle-doc {\n",
       "display: block;\n",
       "padding-bottom: 1.3em;\n",
       "padding-left: 0.4em;\n",
       "}\n",
       ".hoogle-code {\n",
       "display: block;\n",
       "font-family: monospace;\n",
       "white-space: pre;\n",
       "}\n",
       ".hoogle-text {\n",
       "display: block;\n",
       "}\n",
       ".hoogle-name {\n",
       "color: green;\n",
       "font-weight: bold;\n",
       "}\n",
       ".hoogle-head {\n",
       "font-weight: bold;\n",
       "}\n",
       ".hoogle-sub {\n",
       "display: block;\n",
       "margin-left: 0.4em;\n",
       "}\n",
       ".hoogle-package {\n",
       "font-weight: bold;\n",
       "font-style: italic;\n",
       "}\n",
       ".hoogle-module {\n",
       "font-weight: bold;\n",
       "}\n",
       ".hoogle-class {\n",
       "font-weight: bold;\n",
       "}\n",
       ".get-type {\n",
       "color: green;\n",
       "font-weight: bold;\n",
       "font-family: monospace;\n",
       "display: block;\n",
       "white-space: pre-wrap;\n",
       "}\n",
       ".show-type {\n",
       "color: green;\n",
       "font-weight: bold;\n",
       "font-family: monospace;\n",
       "margin-left: 1em;\n",
       "}\n",
       ".mono {\n",
       "font-family: monospace;\n",
       "display: block;\n",
       "}\n",
       ".err-msg {\n",
       "color: red;\n",
       "font-style: italic;\n",
       "font-family: monospace;\n",
       "white-space: pre;\n",
       "display: block;\n",
       "}\n",
       "#unshowable {\n",
       "color: red;\n",
       "font-weight: bold;\n",
       "}\n",
       ".err-msg.in.collapse {\n",
       "padding-top: 0.7em;\n",
       "}\n",
       ".highlight-code {\n",
       "white-space: pre;\n",
       "font-family: monospace;\n",
       "}\n",
       ".suggestion-warning { \n",
       "font-weight: bold;\n",
       "color: rgb(200, 130, 0);\n",
       "}\n",
       ".suggestion-error { \n",
       "font-weight: bold;\n",
       "color: red;\n",
       "}\n",
       ".suggestion-name {\n",
       "font-weight: bold;\n",
       "}\n",
       "</style><div class=\"suggestion-name\" style=\"clear:both;\">Use foldr</div><div class=\"suggestion-row\" style=\"float: left;\"><div class=\"suggestion-warning\">Found:</div><div class=\"highlight-code\" id=\"haskell\">length [] = 0\n",
       "length (x : xs) = 1 + length xs</div></div><div class=\"suggestion-row\" style=\"float: left;\"><div class=\"suggestion-warning\">Why Not:</div><div class=\"highlight-code\" id=\"haskell\">length xs = foldr (\\ x -> (+) 1) 0 xs</div></div>"
      ],
      "text/plain": [
       "Line 1: Use foldr\n",
       "Found:\n",
       "length [] = 0\n",
       "length (x : xs) = 1 + length xs\n",
       "Why not:\n",
       "length xs = foldr (\\ x -> (+) 1) 0 xs"
      ]
     },
     "metadata": {},
     "output_type": "display_data"
    }
   ],
   "source": [
    "length [] = 0\n",
    "length (x:xs) = 1 + length xs"
   ]
  },
  {
   "cell_type": "markdown",
   "metadata": {
    "slideshow": {
     "slide_type": "-"
    }
   },
   "source": [
    "El patrón usado comúnmente con listas, __`(x:xs)`__, es en realidad _syntactic sugar_ para __`((:) x xs)`__, ya que __`(:)`__ es un constructor para las listas. Una forma equivalente sería:"
   ]
  },
  {
   "cell_type": "code",
   "execution_count": 34,
   "metadata": {
    "ExecuteTime": {
     "end_time": "2018-07-01T00:22:02.939867Z",
     "start_time": "2018-07-01T00:22:02.792Z"
    },
    "slideshow": {
     "slide_type": "-"
    }
   },
   "outputs": [],
   "source": [
    "length [] = 0\n",
    "length ((:) x xs) = 1 + length xs"
   ]
  },
  {
   "cell_type": "markdown",
   "metadata": {
    "slideshow": {
     "slide_type": "slide"
    }
   },
   "source": [
    "### _Typeclasses_"
   ]
  },
  {
   "cell_type": "markdown",
   "metadata": {},
   "source": [
    "El equivalente a la herencia de los lenguajes orientados a objetos en Haskell es posible gracias a las _typeclasses_, similares a las interfaces o clases abstractas de Java o C++. En una _typeclass_ se define una serie de funciones a ser utilizadas con valores de un tipo que instancie dicha clase. Algunas _typeclasses_ disponibles en el estándar de Haskell son:"
   ]
  },
  {
   "cell_type": "markdown",
   "metadata": {
    "slideshow": {
     "slide_type": "-"
    }
   },
   "source": [
    "* __`Eq`__: comparar con __`==`__ o __`/=`__\n",
    "* __`Show`__: representar como string\n",
    "* __`Read`__: crear valor a partir de string\n",
    "* __`Ord`__: comparar con __`<`__, __`>`__, ...\n",
    "* __`Num`__: operaciones __`+`__, __`-`__, __`*`__\n",
    "* __`Functor`__\n",
    "* __`Applicative`__\n",
    "* __`Monad`__"
   ]
  },
  {
   "cell_type": "markdown",
   "metadata": {},
   "source": [
    "Ejemplo:"
   ]
  },
  {
   "cell_type": "markdown",
   "metadata": {
    "slideshow": {
     "slide_type": "slide"
    }
   },
   "source": [
    "La clase __`Eq`__ está definida como:"
   ]
  },
  {
   "cell_type": "code",
   "execution_count": 12,
   "metadata": {
    "collapsed": true,
    "slideshow": {
     "slide_type": "-"
    }
   },
   "outputs": [],
   "source": [
    "class Eq a where\n",
    "    (==) :: a -> a -> Bool\n",
    "    (/=) :: a -> a -> Bool -- sólo hace falta implementar uno de los dos"
   ]
  },
  {
   "cell_type": "markdown",
   "metadata": {
    "slideshow": {
     "slide_type": "slide"
    }
   },
   "source": [
    "Point es una __instancia__ de __`Eq`__: dos __`Point x y`__ son \"iguales\" si están a la misma distancia del __`Point 0 0`__."
   ]
  },
  {
   "cell_type": "code",
   "execution_count": 35,
   "metadata": {
    "ExecuteTime": {
     "end_time": "2018-07-01T00:22:17.343551Z",
     "start_time": "2018-07-01T00:22:17.118Z"
    },
    "slideshow": {
     "slide_type": "-"
    }
   },
   "outputs": [],
   "source": [
    "data Point = Point Int Int\n",
    "\n",
    "instance Eq Point where\n",
    "     (Point x1 y1) == (Point x2 y2) = (x1^2 + y1^2) == (x2^2 + y2^2)"
   ]
  },
  {
   "cell_type": "code",
   "execution_count": 36,
   "metadata": {
    "ExecuteTime": {
     "end_time": "2018-07-01T00:22:21.430822Z",
     "start_time": "2018-07-01T00:22:21.097Z"
    },
    "slideshow": {
     "slide_type": "-"
    }
   },
   "outputs": [
    {
     "data": {
      "text/plain": [
       "False"
      ]
     },
     "metadata": {},
     "output_type": "display_data"
    }
   ],
   "source": [
    "Point 1 0 == Point 2 1"
   ]
  },
  {
   "cell_type": "code",
   "execution_count": 37,
   "metadata": {
    "ExecuteTime": {
     "end_time": "2018-07-01T00:22:22.594114Z",
     "start_time": "2018-07-01T00:22:22.244Z"
    },
    "slideshow": {
     "slide_type": "-"
    }
   },
   "outputs": [
    {
     "data": {
      "text/plain": [
       "True"
      ]
     },
     "metadata": {},
     "output_type": "display_data"
    }
   ],
   "source": [
    "Point 0 5 == Point 3 4"
   ]
  },
  {
   "cell_type": "markdown",
   "metadata": {},
   "source": [
    "La ventaja que tienen es que se pueden definir funciones que en vez de recibir un argumento de un tipo específico, reciben tipos que son instancias de determinada clase, sin importar _qué_ tipo es. Esto se hace con restricciones, _constraints_, que se indican en la definición del tipo de la función (entre el __`::`__ y el __`=>`__)."
   ]
  },
  {
   "cell_type": "markdown",
   "metadata": {},
   "source": [
    "Además, a diferencia de lenguajes como Java o C++ donde la herencia o la implementación de cierta interfaz tienen que hacerse en la definición de la clase, se puede agregar funcionalidad a un tipo de dato que ya está definido, en cualquier lugar, lo que permite hacer a un tipo que ya está definido en una librería, instancia de una clase, sin modificar la librería."
   ]
  },
  {
   "cell_type": "markdown",
   "metadata": {},
   "source": [
    "Ejemplo:"
   ]
  },
  {
   "cell_type": "markdown",
   "metadata": {},
   "source": [
    "La función __`sonIguales`__ podrá ser utilizada con argumentos de cualquier tipo que sea instancia de la clase __`Eq`__:"
   ]
  },
  {
   "cell_type": "code",
   "execution_count": 38,
   "metadata": {
    "ExecuteTime": {
     "end_time": "2018-07-01T00:22:25.290685Z",
     "start_time": "2018-07-01T00:22:25.109Z"
    }
   },
   "outputs": [],
   "source": [
    "sonIguales :: Eq a => a -> a -> String\n",
    "sonIguales a b\n",
    "            | a == b = \"Son iguales\"\n",
    "            | otherwise = \"No son iguales\""
   ]
  },
  {
   "cell_type": "code",
   "execution_count": 39,
   "metadata": {
    "ExecuteTime": {
     "end_time": "2018-07-01T00:22:28.132010Z",
     "start_time": "2018-07-01T00:22:27.414Z"
    }
   },
   "outputs": [
    {
     "data": {
      "text/plain": [
       "\"Son iguales\""
      ]
     },
     "metadata": {},
     "output_type": "display_data"
    },
    {
     "data": {
      "text/plain": [
       "\"Son iguales\""
      ]
     },
     "metadata": {},
     "output_type": "display_data"
    },
    {
     "data": {
      "text/plain": [
       "\"No son iguales\""
      ]
     },
     "metadata": {},
     "output_type": "display_data"
    }
   ],
   "source": [
    "sonIguales 'a' 'a'\n",
    "sonIguales 2 2\n",
    "sonIguales [1,2,3] [2,3,4]"
   ]
  },
  {
   "cell_type": "markdown",
   "metadata": {
    "slideshow": {
     "slide_type": "slide"
    }
   },
   "source": [
    "### _Deriving_"
   ]
  },
  {
   "cell_type": "markdown",
   "metadata": {
    "slideshow": {
     "slide_type": "-"
    }
   },
   "source": [
    "Algunas clases pueden ser derivadas automáticamente, agregándolas a la definición del tipo de datos, con la palabra clave _deriving_."
   ]
  },
  {
   "cell_type": "markdown",
   "metadata": {},
   "source": [
    "Ejemplo: se quiere poder imprimir en pantalla, o convertir a string, un __`Point`__."
   ]
  },
  {
   "cell_type": "code",
   "execution_count": 40,
   "metadata": {
    "ExecuteTime": {
     "end_time": "2018-07-01T00:22:30.559902Z",
     "start_time": "2018-07-01T00:22:30.391Z"
    },
    "slideshow": {
     "slide_type": "-"
    }
   },
   "outputs": [
    {
     "data": {
      "text/html": [
       "<style>/* Styles used for the Hoogle display in the pager */\n",
       ".hoogle-doc {\n",
       "display: block;\n",
       "padding-bottom: 1.3em;\n",
       "padding-left: 0.4em;\n",
       "}\n",
       ".hoogle-code {\n",
       "display: block;\n",
       "font-family: monospace;\n",
       "white-space: pre;\n",
       "}\n",
       ".hoogle-text {\n",
       "display: block;\n",
       "}\n",
       ".hoogle-name {\n",
       "color: green;\n",
       "font-weight: bold;\n",
       "}\n",
       ".hoogle-head {\n",
       "font-weight: bold;\n",
       "}\n",
       ".hoogle-sub {\n",
       "display: block;\n",
       "margin-left: 0.4em;\n",
       "}\n",
       ".hoogle-package {\n",
       "font-weight: bold;\n",
       "font-style: italic;\n",
       "}\n",
       ".hoogle-module {\n",
       "font-weight: bold;\n",
       "}\n",
       ".hoogle-class {\n",
       "font-weight: bold;\n",
       "}\n",
       ".get-type {\n",
       "color: green;\n",
       "font-weight: bold;\n",
       "font-family: monospace;\n",
       "display: block;\n",
       "white-space: pre-wrap;\n",
       "}\n",
       ".show-type {\n",
       "color: green;\n",
       "font-weight: bold;\n",
       "font-family: monospace;\n",
       "margin-left: 1em;\n",
       "}\n",
       ".mono {\n",
       "font-family: monospace;\n",
       "display: block;\n",
       "}\n",
       ".err-msg {\n",
       "color: red;\n",
       "font-style: italic;\n",
       "font-family: monospace;\n",
       "white-space: pre;\n",
       "display: block;\n",
       "}\n",
       "#unshowable {\n",
       "color: red;\n",
       "font-weight: bold;\n",
       "}\n",
       ".err-msg.in.collapse {\n",
       "padding-top: 0.7em;\n",
       "}\n",
       ".highlight-code {\n",
       "white-space: pre;\n",
       "font-family: monospace;\n",
       "}\n",
       ".suggestion-warning { \n",
       "font-weight: bold;\n",
       "color: rgb(200, 130, 0);\n",
       "}\n",
       ".suggestion-error { \n",
       "font-weight: bold;\n",
       "color: red;\n",
       "}\n",
       ".suggestion-name {\n",
       "font-weight: bold;\n",
       "}\n",
       "</style><span class='err-msg'>&lt;interactive&gt;:1:1: error:<br/>    • No instance for (Show Point) arising from a use of ‘print’<br/>    • In the expression: print p<br/>      In an equation for ‘it’: it = print p</span>"
      ],
      "text/plain": [
       "<interactive>:1:1: error:\n",
       "    • No instance for (Show Point) arising from a use of ‘print’\n",
       "    • In the expression: print p\n",
       "      In an equation for ‘it’: it = print p"
      ]
     },
     "metadata": {},
     "output_type": "display_data"
    }
   ],
   "source": [
    "data Point = Point Int Int\n",
    "\n",
    "p = Point 1 2\n",
    "\n",
    "print p"
   ]
  },
  {
   "cell_type": "markdown",
   "metadata": {
    "slideshow": {
     "slide_type": "-"
    }
   },
   "source": [
    "El error anterior aparece porque __`Point`__ no es una instancia de __`Show`__. Esto se puede solucionar agregando __`deriving Show`__:"
   ]
  },
  {
   "cell_type": "code",
   "execution_count": 41,
   "metadata": {
    "ExecuteTime": {
     "end_time": "2018-07-01T00:22:33.146908Z",
     "start_time": "2018-07-01T00:22:32.781Z"
    },
    "slideshow": {
     "slide_type": "slide"
    }
   },
   "outputs": [
    {
     "data": {
      "text/plain": [
       "Point 1 2"
      ]
     },
     "metadata": {},
     "output_type": "display_data"
    }
   ],
   "source": [
    "data Point = Point Int Int deriving Show\n",
    "\n",
    "p = Point 1 2\n",
    "\n",
    "print p"
   ]
  },
  {
   "cell_type": "markdown",
   "metadata": {},
   "source": [
    "Obviamente, si en cambio se desea que la conversión de __`Point`__ a string sea otra (por ejemplo, __`\"(x,y)\"`__) se debe implementar la instancia de __`Show`__ para __`Point`__ manualmente."
   ]
  },
  {
   "cell_type": "markdown",
   "metadata": {
    "slideshow": {
     "slide_type": "slide"
    }
   },
   "source": [
    "## Functor"
   ]
  },
  {
   "cell_type": "markdown",
   "metadata": {},
   "source": [
    "La clase __`Functor`__ está definida como:"
   ]
  },
  {
   "cell_type": "code",
   "execution_count": 1,
   "metadata": {
    "collapsed": true,
    "slideshow": {
     "slide_type": "-"
    }
   },
   "outputs": [],
   "source": [
    "class Functor f where\n",
    "    fmap :: (a -> b) -> f a -> f b"
   ]
  },
  {
   "cell_type": "markdown",
   "metadata": {
    "slideshow": {
     "slide_type": "-"
    }
   },
   "source": [
    "Es decir, define cómo \"mapear\" de __`f a`__ a __`f b`__, siendo __`f`__ un __tipo parametrizado con un sólo parámetro__. Es decir, aquí __`f`__ puede ser __`Tree`__ (el parámetro es el tipo de los valores de sus nodos), __`Either a`__ (el parámetro es el tipo del argumento del constructor __`Right`__), __`[]`__ (el parámetro es el tipo de los elementos de la lista), etc. __`f`__ __no__ puede ser __`TreeInt`__, __`Point`__, __`Int`__, __`Char`__, etc."
   ]
  },
  {
   "cell_type": "markdown",
   "metadata": {},
   "source": [
    "Ejemplo: se define __`fmap`__ para __`Tree`__ para que aplique la función (el primer argumento de __`fmap`__) a cada elemento del árbol."
   ]
  },
  {
   "cell_type": "code",
   "execution_count": 42,
   "metadata": {
    "ExecuteTime": {
     "end_time": "2018-07-01T00:22:38.323103Z",
     "start_time": "2018-07-01T00:22:38.117Z"
    },
    "slideshow": {
     "slide_type": "slide"
    }
   },
   "outputs": [],
   "source": [
    "data Tree a = Nil | Node (Tree a) a (Tree a) deriving Show\n",
    "\n",
    "instance Functor Tree where\n",
    "    fmap f Nil = Nil\n",
    "    fmap f (Node left x right) = Node (fmap f left) (f x) (fmap f right)"
   ]
  },
  {
   "cell_type": "markdown",
   "metadata": {},
   "source": [
    "Aquí se aplica la función __`show`__ para convertir a string el cuadrado de cada valor del árbol, pasando de un __`Tree Int`__ a un __`Tree String`__."
   ]
  },
  {
   "cell_type": "code",
   "execution_count": 43,
   "metadata": {
    "ExecuteTime": {
     "end_time": "2018-07-01T00:22:40.437144Z",
     "start_time": "2018-07-01T00:22:40.071Z"
    },
    "slideshow": {
     "slide_type": "fragment"
    }
   },
   "outputs": [
    {
     "data": {
      "text/plain": [
       "Node (Node Nil \"4\" Nil) \"1\" (Node (Node Nil \"16\" Nil) \"9\" (Node Nil \"25\" Nil))"
      ]
     },
     "metadata": {},
     "output_type": "display_data"
    }
   ],
   "source": [
    "t = Node (Node Nil 2 Nil) 1 (Node (Node Nil 4 Nil) 3 (Node Nil 5 Nil))\n",
    "fmap (show . (^2)) t"
   ]
  },
  {
   "cell_type": "markdown",
   "metadata": {
    "slideshow": {
     "slide_type": "slide"
    }
   },
   "source": [
    "## Monad"
   ]
  },
  {
   "cell_type": "markdown",
   "metadata": {},
   "source": [
    "Una de las clases más importantes en Haskell es la clase __`Monad`__. Como en general es difícil entender el concepto y por qué es tan útil partiendo sólo de su definición, a continuación se verá un ejemplo donde se muestra la utilidad de esta clase."
   ]
  },
  {
   "cell_type": "markdown",
   "metadata": {},
   "source": [
    "Sean __`f`__ y __`g`__ la siguientes funciones:"
   ]
  },
  {
   "cell_type": "code",
   "execution_count": 44,
   "metadata": {
    "ExecuteTime": {
     "end_time": "2018-07-01T00:22:44.284804Z",
     "start_time": "2018-07-01T00:22:44.134Z"
    },
    "slideshow": {
     "slide_type": "fragment"
    }
   },
   "outputs": [],
   "source": [
    "f :: Int -> Int -- eleva x al cuadrado\n",
    "f x = x^2\n",
    "\n",
    "g :: Int -> Int -- suma 5 a x\n",
    "g x = x + 5"
   ]
  },
  {
   "cell_type": "markdown",
   "metadata": {
    "slideshow": {
     "slide_type": "slide"
    }
   },
   "source": [
    "Supongamos que queremos loguear cada vez que se llama a las funciones. En un principio podemos crear las funciones __`fLog`__ y __`gLog`__ que aplican cada función y devuelven el resultado, junto con un string que es el log correspondiente."
   ]
  },
  {
   "cell_type": "code",
   "execution_count": 45,
   "metadata": {
    "ExecuteTime": {
     "end_time": "2018-07-01T00:22:46.227649Z",
     "start_time": "2018-07-01T00:22:46.003Z"
    },
    "slideshow": {
     "slide_type": "-"
    }
   },
   "outputs": [],
   "source": [
    "fLog :: Int -> (Int, String)\n",
    "fLog x = (f x, \"Al cuadrado\")\n",
    "\n",
    "gLog :: Int -> (Int, String)\n",
    "gLog x = (g x,\"Mas 5\")"
   ]
  },
  {
   "cell_type": "code",
   "execution_count": 46,
   "metadata": {
    "ExecuteTime": {
     "end_time": "2018-07-01T00:22:47.746980Z",
     "start_time": "2018-07-01T00:22:47.218Z"
    },
    "slideshow": {
     "slide_type": "-"
    }
   },
   "outputs": [
    {
     "data": {
      "text/plain": [
       "(25,\"Al cuadrado\")"
      ]
     },
     "metadata": {},
     "output_type": "display_data"
    },
    {
     "data": {
      "text/plain": [
       "(30,\"Mas 5\")"
      ]
     },
     "metadata": {},
     "output_type": "display_data"
    }
   ],
   "source": [
    "fLog 5\n",
    "gLog 25"
   ]
  },
  {
   "cell_type": "markdown",
   "metadata": {
    "slideshow": {
     "slide_type": "slide"
    }
   },
   "source": [
    "Esto funciona, pero sería conveniente poder combinar, componer, concatener, etc. las funciones, logueando cada llamado. Si quisiéramos aplicar __`g`__ y luego __`f`__ a ese resultado, usando __`gLog`__ y __`fLog`__ para tener los logs, vemos que esto arroja un error, porque los tipos de __`fLog`__ y __`gLog`__ no son compatibles, es decir, la salida de una no puede ser usada como entrada de la otra."
   ]
  },
  {
   "cell_type": "code",
   "execution_count": 47,
   "metadata": {
    "ExecuteTime": {
     "end_time": "2018-07-01T00:22:49.560441Z",
     "start_time": "2018-07-01T00:22:49.530Z"
    },
    "slideshow": {
     "slide_type": "-"
    }
   },
   "outputs": [
    {
     "data": {
      "text/html": [
       "<style>/* Styles used for the Hoogle display in the pager */\n",
       ".hoogle-doc {\n",
       "display: block;\n",
       "padding-bottom: 1.3em;\n",
       "padding-left: 0.4em;\n",
       "}\n",
       ".hoogle-code {\n",
       "display: block;\n",
       "font-family: monospace;\n",
       "white-space: pre;\n",
       "}\n",
       ".hoogle-text {\n",
       "display: block;\n",
       "}\n",
       ".hoogle-name {\n",
       "color: green;\n",
       "font-weight: bold;\n",
       "}\n",
       ".hoogle-head {\n",
       "font-weight: bold;\n",
       "}\n",
       ".hoogle-sub {\n",
       "display: block;\n",
       "margin-left: 0.4em;\n",
       "}\n",
       ".hoogle-package {\n",
       "font-weight: bold;\n",
       "font-style: italic;\n",
       "}\n",
       ".hoogle-module {\n",
       "font-weight: bold;\n",
       "}\n",
       ".hoogle-class {\n",
       "font-weight: bold;\n",
       "}\n",
       ".get-type {\n",
       "color: green;\n",
       "font-weight: bold;\n",
       "font-family: monospace;\n",
       "display: block;\n",
       "white-space: pre-wrap;\n",
       "}\n",
       ".show-type {\n",
       "color: green;\n",
       "font-weight: bold;\n",
       "font-family: monospace;\n",
       "margin-left: 1em;\n",
       "}\n",
       ".mono {\n",
       "font-family: monospace;\n",
       "display: block;\n",
       "}\n",
       ".err-msg {\n",
       "color: red;\n",
       "font-style: italic;\n",
       "font-family: monospace;\n",
       "white-space: pre;\n",
       "display: block;\n",
       "}\n",
       "#unshowable {\n",
       "color: red;\n",
       "font-weight: bold;\n",
       "}\n",
       ".err-msg.in.collapse {\n",
       "padding-top: 0.7em;\n",
       "}\n",
       ".highlight-code {\n",
       "white-space: pre;\n",
       "font-family: monospace;\n",
       "}\n",
       ".suggestion-warning { \n",
       "font-weight: bold;\n",
       "color: rgb(200, 130, 0);\n",
       "}\n",
       ".suggestion-error { \n",
       "font-weight: bold;\n",
       "color: red;\n",
       "}\n",
       ".suggestion-name {\n",
       "font-weight: bold;\n",
       "}\n",
       "</style><span class='err-msg'>&lt;interactive&gt;:1:16: error:<br/>    • Couldn't match type ‘(Int, String)’ with ‘Int’<br/>      Expected type: Int -&gt; Int<br/>        Actual type: Int -&gt; (Int, String)<br/>    • In the second argument of ‘(.)’, namely ‘gLog’<br/>      In the expression: fLog . gLog<br/>      In an equation for ‘fgLog’: fgLog = fLog . gLog</span>"
      ],
      "text/plain": [
       "<interactive>:1:16: error:\n",
       "    • Couldn't match type ‘(Int, String)’ with ‘Int’\n",
       "      Expected type: Int -> Int\n",
       "        Actual type: Int -> (Int, String)\n",
       "    • In the second argument of ‘(.)’, namely ‘gLog’\n",
       "      In the expression: fLog . gLog\n",
       "      In an equation for ‘fgLog’: fgLog = fLog . gLog"
      ]
     },
     "metadata": {},
     "output_type": "display_data"
    }
   ],
   "source": [
    "fgLog = fLog . gLog"
   ]
  },
  {
   "cell_type": "markdown",
   "metadata": {},
   "source": [
    "Por supuesto, se puede hacer que __`fLog`__y __`gLog`__ tomen una tupla (resultado,log), apliquen la función sólo al resultado, y luego concatenen el nuevo log al log recibido."
   ]
  },
  {
   "cell_type": "code",
   "execution_count": 48,
   "metadata": {
    "ExecuteTime": {
     "end_time": "2018-07-01T00:22:52.824246Z",
     "start_time": "2018-07-01T00:22:52.671Z"
    },
    "slideshow": {
     "slide_type": "slide"
    }
   },
   "outputs": [],
   "source": [
    "fLog :: (Int, [String]) -> (Int, [String])\n",
    "fLog (x,s) = (f x, s ++ [\"Al cuadrado\"])\n",
    "\n",
    "gLog :: (Int, [String]) -> (Int, [String])\n",
    "gLog (x,s) = (g x, s ++ [\"Mas 5\"])"
   ]
  },
  {
   "cell_type": "code",
   "execution_count": 49,
   "metadata": {
    "ExecuteTime": {
     "end_time": "2018-07-01T00:22:54.014292Z",
     "start_time": "2018-07-01T00:22:53.574Z"
    },
    "slideshow": {
     "slide_type": "-"
    }
   },
   "outputs": [
    {
     "data": {
      "text/plain": [
       "(49,[\"Mas 5\",\"Al cuadrado\"])"
      ]
     },
     "metadata": {},
     "output_type": "display_data"
    }
   ],
   "source": [
    "fLog . gLog $ (2,[])"
   ]
  },
  {
   "cell_type": "markdown",
   "metadata": {},
   "source": [
    "Si bien esto funciona, es poco práctico que __`fLog`__ y __`gLog`__ reciban tuplas y tengan que \"ocuparse\" de descomponer el valor del log recibido. Volviendo a la primera versión de __`fLog`__ y __`gLog`__, con una ligera modificación: en vez de devolver una tupla con el resultado y el log como un __`String`__, devuelven el log como una lista de __`String`__, con un único __`String`__."
   ]
  },
  {
   "cell_type": "code",
   "execution_count": 50,
   "metadata": {
    "ExecuteTime": {
     "end_time": "2018-07-01T00:22:56.921498Z",
     "start_time": "2018-07-01T00:22:56.713Z"
    },
    "slideshow": {
     "slide_type": "slide"
    }
   },
   "outputs": [],
   "source": [
    "type Log = [String]\n",
    "-- esto indica simplemente que Log es un sinónimo de [String]\n",
    "-- Log NO es un tipo nuevo\n",
    "\n",
    "fLog :: Int -> (Int, Log)\n",
    "fLog x = (f x, [\"Al cuadrado\"])\n",
    "\n",
    "gLog :: Int -> (Int, Log)\n",
    "gLog x = (g x, [\"Mas 5\"])"
   ]
  },
  {
   "cell_type": "markdown",
   "metadata": {
    "slideshow": {
     "slide_type": "slide"
    }
   },
   "source": [
    "Será útil definir una función __`fmapW`__ que permite aplicar otra función a un __`(Int, Log)`__, sólo al __`Int`__, dejando el __`Log`__ intacto:"
   ]
  },
  {
   "cell_type": "code",
   "execution_count": 51,
   "metadata": {
    "ExecuteTime": {
     "end_time": "2018-07-01T00:22:59.708272Z",
     "start_time": "2018-07-01T00:22:59.551Z"
    },
    "slideshow": {
     "slide_type": "-"
    }
   },
   "outputs": [],
   "source": [
    "fmapW :: (Int -> a) -> (Int, Log) -> (a, Log)\n",
    "fmapW f (x,s) = (f x,s)"
   ]
  },
  {
   "cell_type": "code",
   "execution_count": 52,
   "metadata": {
    "ExecuteTime": {
     "end_time": "2018-07-01T00:23:00.965691Z",
     "start_time": "2018-07-01T00:23:00.664Z"
    },
    "slideshow": {
     "slide_type": "-"
    }
   },
   "outputs": [
    {
     "data": {
      "text/plain": [
       "(4,[\"Dos\"])"
      ]
     },
     "metadata": {},
     "output_type": "display_data"
    }
   ],
   "source": [
    "fmapW f (2,[\"Dos\"])"
   ]
  },
  {
   "cell_type": "markdown",
   "metadata": {
    "slideshow": {
     "slide_type": "slide"
    }
   },
   "source": [
    "¿Y si se mapea una función que devuelva otro __`(Int, Log)`__?"
   ]
  },
  {
   "cell_type": "code",
   "execution_count": 53,
   "metadata": {
    "ExecuteTime": {
     "end_time": "2018-07-01T00:23:02.513333Z",
     "start_time": "2018-07-01T00:23:02.331Z"
    },
    "slideshow": {
     "slide_type": "-"
    }
   },
   "outputs": [],
   "source": [
    "r = gLog 5"
   ]
  },
  {
   "cell_type": "code",
   "execution_count": 54,
   "metadata": {
    "ExecuteTime": {
     "end_time": "2018-07-01T00:23:03.691962Z",
     "start_time": "2018-07-01T00:23:03.286Z"
    },
    "slideshow": {
     "slide_type": "-"
    }
   },
   "outputs": [
    {
     "data": {
      "text/plain": [
       "(10,[\"Mas 5\"])"
      ]
     },
     "metadata": {},
     "output_type": "display_data"
    }
   ],
   "source": [
    "r"
   ]
  },
  {
   "cell_type": "code",
   "execution_count": 55,
   "metadata": {
    "ExecuteTime": {
     "end_time": "2018-07-01T00:23:05.411042Z",
     "start_time": "2018-07-01T00:23:05.089Z"
    },
    "slideshow": {
     "slide_type": "-"
    }
   },
   "outputs": [
    {
     "data": {
      "text/plain": [
       "((100,[\"Al cuadrado\"]),[\"Mas 5\"])"
      ]
     },
     "metadata": {},
     "output_type": "display_data"
    }
   ],
   "source": [
    "fmapW fLog r"
   ]
  },
  {
   "cell_type": "markdown",
   "metadata": {
    "slideshow": {
     "slide_type": "slide"
    }
   },
   "source": [
    "El resultado es parecido al deseado, __`(100,[\"Mas 5\",\"Al cuadrado\"])`__, toda la información está ahí, sólo hay que reacomodarla.\n",
    "Para esto definimos la función __`joinW`__:"
   ]
  },
  {
   "cell_type": "code",
   "execution_count": 56,
   "metadata": {
    "ExecuteTime": {
     "end_time": "2018-07-01T00:23:07.574549Z",
     "start_time": "2018-07-01T00:23:07.380Z"
    },
    "slideshow": {
     "slide_type": "-"
    }
   },
   "outputs": [],
   "source": [
    "joinW :: ((Int, Log), Log) -> (Int, Log)\n",
    "joinW ((x,s),ss) = (x, ss ++ s) -- x -> 100, s -> [\"Al cuadrado\"], ss -> [\"Mas 5\"]"
   ]
  },
  {
   "cell_type": "code",
   "execution_count": 57,
   "metadata": {
    "ExecuteTime": {
     "end_time": "2018-07-01T00:23:08.807276Z",
     "start_time": "2018-07-01T00:23:08.496Z"
    },
    "slideshow": {
     "slide_type": "-"
    }
   },
   "outputs": [
    {
     "data": {
      "text/plain": [
       "(100,[\"Mas 5\",\"Al cuadrado\"])"
      ]
     },
     "metadata": {},
     "output_type": "display_data"
    }
   ],
   "source": [
    "joinW . fmapW fLog $ r"
   ]
  },
  {
   "cell_type": "markdown",
   "metadata": {
    "slideshow": {
     "slide_type": "slide"
    }
   },
   "source": [
    "Finalmente, logramos obtener el resultado deseado. Para simplificar las cosas, se define __`bindW`__ como la composición entre __`joinW`__ y __`fmapW`__:"
   ]
  },
  {
   "cell_type": "code",
   "execution_count": 58,
   "metadata": {
    "ExecuteTime": {
     "end_time": "2018-07-01T00:23:11.084519Z",
     "start_time": "2018-07-01T00:23:10.919Z"
    },
    "slideshow": {
     "slide_type": "-"
    }
   },
   "outputs": [],
   "source": [
    "bindW :: (Int, Log) -> (Int -> (Int, Log)) -> (Int, Log)\n",
    "bindW (x,s) f = joinW . fmapW f $ (x,s)"
   ]
  },
  {
   "cell_type": "code",
   "execution_count": 59,
   "metadata": {
    "ExecuteTime": {
     "end_time": "2018-07-01T00:23:21.915643Z",
     "start_time": "2018-07-01T00:23:21.550Z"
    },
    "slideshow": {
     "slide_type": "-"
    }
   },
   "outputs": [
    {
     "data": {
      "text/plain": [
       "(10,[\"Mas 5\"])"
      ]
     },
     "metadata": {},
     "output_type": "display_data"
    }
   ],
   "source": [
    "r = (5,[]) `bindW` gLog\n",
    "r"
   ]
  },
  {
   "cell_type": "code",
   "execution_count": 60,
   "metadata": {
    "ExecuteTime": {
     "end_time": "2018-07-01T00:23:29.490070Z",
     "start_time": "2018-07-01T00:23:29.187Z"
    },
    "slideshow": {
     "slide_type": "-"
    }
   },
   "outputs": [
    {
     "data": {
      "text/plain": [
       "(100,[\"Mas 5\",\"Al cuadrado\"])"
      ]
     },
     "metadata": {},
     "output_type": "display_data"
    }
   ],
   "source": [
    "r `bindW` fLog"
   ]
  },
  {
   "cell_type": "markdown",
   "metadata": {
    "slideshow": {
     "slide_type": "slide"
    }
   },
   "source": [
    "Para no tener que poner el valor inicial del log \"a mano\", creamos la función __`returnW`__:"
   ]
  },
  {
   "cell_type": "code",
   "execution_count": 61,
   "metadata": {
    "ExecuteTime": {
     "end_time": "2018-07-01T00:23:32.005948Z",
     "start_time": "2018-07-01T00:23:31.811Z"
    },
    "slideshow": {
     "slide_type": "-"
    }
   },
   "outputs": [],
   "source": [
    "returnW :: Int -> (Int, Log)\n",
    "returnW x = (x, []) -- devuelve x junto con un log vacío"
   ]
  },
  {
   "cell_type": "markdown",
   "metadata": {},
   "source": [
    "Ahora se puede concatenar __`fLog`__ y __`gLog`__ cualquier cantidad de veces, en cualquier orden, obteniendo siempre la lista de logs al final. Además es más fácil de leer una cadena de este estilo que una simple composición, porque se puede ver cómo van \"viajando\" los resultados de izquierda a derecha."
   ]
  },
  {
   "cell_type": "code",
   "execution_count": 62,
   "metadata": {
    "ExecuteTime": {
     "end_time": "2018-07-01T00:23:47.854368Z",
     "start_time": "2018-07-01T00:23:47.425Z"
    },
    "slideshow": {
     "slide_type": "-"
    }
   },
   "outputs": [
    {
     "data": {
      "text/plain": [
       "(100,[\"Mas 5\",\"Al cuadrado\"])"
      ]
     },
     "metadata": {},
     "output_type": "display_data"
    }
   ],
   "source": [
    "--      5   ->  gLog 5   ->    fLog\n",
    "returnW 5 `bindW` gLog `bindW` fLog -- el 5 pasa a gLog, el resultado de gLog pasa a fLog; (5+5)^2"
   ]
  },
  {
   "cell_type": "code",
   "execution_count": 63,
   "metadata": {
    "ExecuteTime": {
     "end_time": "2018-07-01T00:24:05.428782Z",
     "start_time": "2018-07-01T00:24:05.107Z"
    }
   },
   "outputs": [
    {
     "data": {
      "text/plain": [
       "(196,[\"Al cuadrado\",\"Mas 5\",\"Al cuadrado\"])"
      ]
     },
     "metadata": {},
     "output_type": "display_data"
    }
   ],
   "source": [
    "returnW 3 `bindW` fLog `bindW` gLog `bindW` fLog -- (3^2+5)^2"
   ]
  },
  {
   "cell_type": "markdown",
   "metadata": {
    "slideshow": {
     "slide_type": "slide"
    }
   },
   "source": [
    "Para definir un Monad, sólo son necesarias las funciones __`return`__ y __`bind`__ (__`join`__ y __`fmap`__ pueden derivarse de éstas), la clase __`Monad`__ en Haskell es:"
   ]
  },
  {
   "cell_type": "code",
   "execution_count": null,
   "metadata": {
    "collapsed": true,
    "slideshow": {
     "slide_type": "-"
    }
   },
   "outputs": [],
   "source": [
    "class Applicative m => Monad where\n",
    "    return :: a -> m a \n",
    "    (>>=) :: m a -> (a -> m b) -> m b -- bind"
   ]
  },
  {
   "cell_type": "markdown",
   "metadata": {},
   "source": [
    "(Se tiene una restricción de que __`m`__ debe ser además un __`Applicative`__. Un __`Applicative`__ es un\n",
    "\"término medio\" entre un __`Functor`__ y un __`Monad`__: todos los __`Monad`__ son __`Applicative`__; y todos los\n",
    "__`Applicative`__ son __`Functor`__. Para el ejemplo anterior, implícitamente dijimos que todos los __`(a,\n",
    "Log)`__ son __`Functor`__ al definir __`fmapW`__. En versiones antiguas de Haskell, no era necesario definir la instancia de __`Applicative`__ para hacer un __`Monad`__.)"
   ]
  },
  {
   "cell_type": "markdown",
   "metadata": {},
   "source": [
    "El __`Monad`__ del ejemplo anterior ya forma parte del estándar de Haskell, y se llama __`Writer`__. Podemos definir __`fLog`__ y __`gLog`__ como"
   ]
  },
  {
   "cell_type": "code",
   "execution_count": 5,
   "metadata": {
    "collapsed": true,
    "slideshow": {
     "slide_type": "slide"
    }
   },
   "outputs": [],
   "source": [
    "import Control.Monad.Writer\n",
    "\n",
    "type Log = [String]\n",
    "\n",
    "fLog :: Int -> Writer Log Int\n",
    "fLog x = writer(f x,[\"Al cuadrado\"])\n",
    "\n",
    "gLog :: Int -> Writer Log Int\n",
    "gLog x = writer(g x, [\"Mas 5\"])"
   ]
  },
  {
   "cell_type": "markdown",
   "metadata": {},
   "source": [
    "La secuencia de __`g`__ y luego __`f`__, logueando, se escribe simplemente"
   ]
  },
  {
   "cell_type": "code",
   "execution_count": 6,
   "metadata": {
    "slideshow": {
     "slide_type": "-"
    }
   },
   "outputs": [
    {
     "data": {
      "text/html": [
       "<style>/* Styles used for the Hoogle display in the pager */\n",
       ".hoogle-doc {\n",
       "display: block;\n",
       "padding-bottom: 1.3em;\n",
       "padding-left: 0.4em;\n",
       "}\n",
       ".hoogle-code {\n",
       "display: block;\n",
       "font-family: monospace;\n",
       "white-space: pre;\n",
       "}\n",
       ".hoogle-text {\n",
       "display: block;\n",
       "}\n",
       ".hoogle-name {\n",
       "color: green;\n",
       "font-weight: bold;\n",
       "}\n",
       ".hoogle-head {\n",
       "font-weight: bold;\n",
       "}\n",
       ".hoogle-sub {\n",
       "display: block;\n",
       "margin-left: 0.4em;\n",
       "}\n",
       ".hoogle-package {\n",
       "font-weight: bold;\n",
       "font-style: italic;\n",
       "}\n",
       ".hoogle-module {\n",
       "font-weight: bold;\n",
       "}\n",
       ".hoogle-class {\n",
       "font-weight: bold;\n",
       "}\n",
       ".get-type {\n",
       "color: green;\n",
       "font-weight: bold;\n",
       "font-family: monospace;\n",
       "display: block;\n",
       "white-space: pre-wrap;\n",
       "}\n",
       ".show-type {\n",
       "color: green;\n",
       "font-weight: bold;\n",
       "font-family: monospace;\n",
       "margin-left: 1em;\n",
       "}\n",
       ".mono {\n",
       "font-family: monospace;\n",
       "display: block;\n",
       "}\n",
       ".err-msg {\n",
       "color: red;\n",
       "font-style: italic;\n",
       "font-family: monospace;\n",
       "white-space: pre;\n",
       "display: block;\n",
       "}\n",
       "#unshowable {\n",
       "color: red;\n",
       "font-weight: bold;\n",
       "}\n",
       ".err-msg.in.collapse {\n",
       "padding-top: 0.7em;\n",
       "}\n",
       ".highlight-code {\n",
       "white-space: pre;\n",
       "font-family: monospace;\n",
       "}\n",
       ".suggestion-warning { \n",
       "font-weight: bold;\n",
       "color: rgb(200, 130, 0);\n",
       "}\n",
       ".suggestion-error { \n",
       "font-weight: bold;\n",
       "color: red;\n",
       "}\n",
       ".suggestion-name {\n",
       "font-weight: bold;\n",
       "}\n",
       "</style><div class=\"suggestion-name\" style=\"clear:both;\">Monad law, left identity</div><div class=\"suggestion-row\" style=\"float: left;\"><div class=\"suggestion-warning\">Found:</div><div class=\"highlight-code\" id=\"haskell\">return 5 >>= gLog</div></div><div class=\"suggestion-row\" style=\"float: left;\"><div class=\"suggestion-warning\">Why Not:</div><div class=\"highlight-code\" id=\"haskell\">gLog 5</div></div>"
      ],
      "text/plain": [
       "Line 1: Monad law, left identity\n",
       "Found:\n",
       "return 5 >>= gLog\n",
       "Why not:\n",
       "gLog 5"
      ]
     },
     "metadata": {},
     "output_type": "display_data"
    },
    {
     "data": {
      "text/plain": [
       "(100,[\"Mas 5\",\"Al cuadrado\"])"
      ]
     },
     "metadata": {},
     "output_type": "display_data"
    }
   ],
   "source": [
    "runWriter(return 5 >>= gLog >>= fLog)"
   ]
  },
  {
   "cell_type": "markdown",
   "metadata": {},
   "source": [
    "El compilador indica que se puede omitir el __`return`__, simplemente se puede hacer"
   ]
  },
  {
   "cell_type": "code",
   "execution_count": 7,
   "metadata": {
    "slideshow": {
     "slide_type": "fragment"
    }
   },
   "outputs": [
    {
     "data": {
      "text/plain": [
       "(100,[\"Mas 5\",\"Al cuadrado\"])"
      ]
     },
     "metadata": {},
     "output_type": "display_data"
    }
   ],
   "source": [
    "runWriter(gLog 5 >>= fLog)"
   ]
  },
  {
   "cell_type": "markdown",
   "metadata": {},
   "source": [
    "Esto sigue funcionando correctamente sin importar el orden ni la cantidad de aplicaciones de __`fLog`__ y __`gLog`__:"
   ]
  },
  {
   "cell_type": "code",
   "execution_count": 8,
   "metadata": {
    "slideshow": {
     "slide_type": "fragment"
    }
   },
   "outputs": [
    {
     "data": {
      "text/plain": [
       "(25601600025,[\"Mas 5\",\"Mas 5\",\"Mas 5\",\"Al cuadrado\",\"Al cuadrado\",\"Mas 5\",\"Al cuadrado\"])"
      ]
     },
     "metadata": {},
     "output_type": "display_data"
    }
   ],
   "source": [
    "runWriter(gLog 5 >>= gLog >>= gLog >>= fLog >>= fLog >>= gLog >>= fLog) -- ((((5+5)+5)^2)^2+5)^2"
   ]
  },
  {
   "cell_type": "markdown",
   "metadata": {
    "slideshow": {
     "slide_type": "slide"
    }
   },
   "source": [
    "#### Notación ____`do`____"
   ]
  },
  {
   "cell_type": "markdown",
   "metadata": {},
   "source": [
    "Con la notación __`do`__ se puede hacer el código un poco más legible y parecido a un lenguaje imperativo (aunque es importante no olvidarse de lo que sucede en el fondo). El ejemplo anterior, aplicar __`gLog`__ a __`5`__ y luego a __`fLog`__ puede escribirse"
   ]
  },
  {
   "cell_type": "code",
   "execution_count": 59,
   "metadata": {
    "collapsed": true,
    "slideshow": {
     "slide_type": "-"
    }
   },
   "outputs": [],
   "source": [
    "gYf :: Writer Log Int\n",
    "gYf = do\n",
    "    x <- gLog 5\n",
    "    fLog x"
   ]
  },
  {
   "cell_type": "code",
   "execution_count": 60,
   "metadata": {
    "slideshow": {
     "slide_type": "-"
    }
   },
   "outputs": [
    {
     "data": {
      "text/plain": [
       "(100,[\"Mas 5\",\"Al cuadrado\"])"
      ]
     },
     "metadata": {},
     "output_type": "display_data"
    }
   ],
   "source": [
    "runWriter gYf"
   ]
  },
  {
   "cell_type": "markdown",
   "metadata": {},
   "source": [
    "#### Utilidad de los monads\n",
    "\n",
    "En general, los monads sirven para combinar cálculos, cómputos, de alguna forma determinada.\n",
    "Se los suele llamar \"punto y coma programable\", _programmable semicolons_. Con la notación __`do`__, agregando un punto y coma \"invisible\" al final de cada línea, podemos pensar que ese punto y coma hace \"algo\" que definimos nosotros, antes de pasar a la siguiente línea:"
   ]
  },
  {
   "cell_type": "code",
   "execution_count": null,
   "metadata": {},
   "outputs": [],
   "source": [
    "gYf :: Writer Log Int\n",
    "gYf = do\n",
    "    x <- gLog 5 -- <escribir al log>\n",
    "    fLog x -- <escribir al log>"
   ]
  },
  {
   "cell_type": "markdown",
   "metadata": {
    "slideshow": {
     "slide_type": "slide"
    }
   },
   "source": [
    "Hay muchos __`Monad`__ ya definidos en Haskell con diversas funciones:\n",
    "\n",
    "* __`Writer`__\n",
    "* __`State`__: Mantener implícitamente un estado\n",
    "* __`Reader`__: Pasar un mismo parámetro a varias funciones\n",
    "* __`Maybe`__\n",
    "* __`IO`__: Entrada y salida\n",
    "* __`List`__\n",
    "* __`Error`__\n",
    "* ..."
   ]
  },
  {
   "cell_type": "markdown",
   "metadata": {},
   "source": [
    "#### Maybe"
   ]
  },
  {
   "cell_type": "markdown",
   "metadata": {},
   "source": [
    "Otro ejemplo de __`Monad`__ muy usado es __`Maybe`__, que se define como:"
   ]
  },
  {
   "cell_type": "code",
   "execution_count": 26,
   "metadata": {},
   "outputs": [],
   "source": [
    "data Maybe a = Nothing | Just a"
   ]
  },
  {
   "cell_type": "markdown",
   "metadata": {},
   "source": [
    "Es decir, puede tomar o bien el valor \"nada\" o bien ser sólo \"algo\"."
   ]
  },
  {
   "cell_type": "markdown",
   "metadata": {},
   "source": [
    "__*Ejemplo*__:"
   ]
  },
  {
   "cell_type": "code",
   "execution_count": 65,
   "metadata": {
    "ExecuteTime": {
     "end_time": "2018-07-01T00:27:15.388758Z",
     "start_time": "2018-07-01T00:27:15.182Z"
    }
   },
   "outputs": [],
   "source": [
    "padre :: String -> Maybe String\n",
    "padre \"A\"= Just \"B\"\n",
    "padre \"B\"= Just \"C\"\n",
    "padre \"C\"= Just \"D\"\n",
    "padre _ = Nothing"
   ]
  },
  {
   "cell_type": "markdown",
   "metadata": {},
   "source": [
    "Es decir, sólo __`\"A\"`__, __`\"B\"`__ y __`\"C\"`__ tienen padre, cualquier otro __`String`__ no tiene. Cuando alguna función de la cadena devuelve __`Nothing`__, todas las siguientes también lo harán:"
   ]
  },
  {
   "cell_type": "code",
   "execution_count": 66,
   "metadata": {
    "ExecuteTime": {
     "end_time": "2018-07-01T00:27:16.862613Z",
     "start_time": "2018-07-01T00:27:16.477Z"
    }
   },
   "outputs": [
    {
     "data": {
      "text/plain": [
       "Just \"D\""
      ]
     },
     "metadata": {},
     "output_type": "display_data"
    }
   ],
   "source": [
    "padre \"A\" >>= padre >>= padre -- \"D\" es el \"bisabuelo\" de \"A\""
   ]
  },
  {
   "cell_type": "code",
   "execution_count": 67,
   "metadata": {
    "ExecuteTime": {
     "end_time": "2018-07-01T00:27:45.968299Z",
     "start_time": "2018-07-01T00:27:45.659Z"
    }
   },
   "outputs": [
    {
     "data": {
      "text/plain": [
       "Nothing"
      ]
     },
     "metadata": {},
     "output_type": "display_data"
    }
   ],
   "source": [
    "padre \"A\" >>= padre >>= padre >>= padre -- \"A\" no tiene \"tatarabuelo\""
   ]
  },
  {
   "cell_type": "code",
   "execution_count": 68,
   "metadata": {
    "ExecuteTime": {
     "end_time": "2018-07-01T00:27:56.425781Z",
     "start_time": "2018-07-01T00:27:56.006Z"
    }
   },
   "outputs": [
    {
     "data": {
      "text/plain": [
       "Nothing"
      ]
     },
     "metadata": {},
     "output_type": "display_data"
    }
   ],
   "source": [
    "padre \"C\" >>= padre >>= padre >>= padre -- \"C\" no tiene \"tatarabuelo\""
   ]
  },
  {
   "cell_type": "markdown",
   "metadata": {},
   "source": [
    "Esto es útil si se tiene algún proceso que consiste en distintas etapas, tal que si alguna de esas etapas falla, o no da ningún resultado, las etapas siguientes también deben hacerlo."
   ]
  },
  {
   "cell_type": "markdown",
   "metadata": {
    "slideshow": {
     "slide_type": "slide"
    }
   },
   "source": [
    "## IO"
   ]
  },
  {
   "cell_type": "markdown",
   "metadata": {
    "slideshow": {
     "slide_type": "-"
    }
   },
   "source": [
    "Una cuestión complicada en los lenguajes funcionales es el manejo de entrada/salida. Más aún, siendo Haskell un lenguaje _puramente_ funcional, es difícil imaginarse cómo podría funcionar la entrada/salida, si una función debe devolver siempre el mismo resultado para los mismos argumentos, y no puede tener efectos secundarios: no se podría hacer una función que lea un archivo y devuelva su contenido (porque el archivo puede cambiar), o una función que tome un caracter de entrada estándar y lo devuelva (el caracter ingresado no es siempre el mismo), o una función que escriba en un archivo (esto sería un efecto), etc. En Haskell se resuelve este problema encapsulando todos los cómputos relacionados con la entrada/salida en un monad, llamado __`IO`__."
   ]
  },
  {
   "cell_type": "markdown",
   "metadata": {
    "slideshow": {
     "slide_type": "slide"
    }
   },
   "source": [
    "A continuación se muestran los tipos de tres funciones básicas, para imprimir un __`String`__ por salida estándar, para obtener un __`Char`__ por entrada estándar, y para leer un archivo:"
   ]
  },
  {
   "cell_type": "code",
   "execution_count": 5,
   "metadata": {
    "slideshow": {
     "slide_type": "fragment"
    }
   },
   "outputs": [
    {
     "data": {
      "text/html": [
       "<style>/* Styles used for the Hoogle display in the pager */\n",
       ".hoogle-doc {\n",
       "display: block;\n",
       "padding-bottom: 1.3em;\n",
       "padding-left: 0.4em;\n",
       "}\n",
       ".hoogle-code {\n",
       "display: block;\n",
       "font-family: monospace;\n",
       "white-space: pre;\n",
       "}\n",
       ".hoogle-text {\n",
       "display: block;\n",
       "}\n",
       ".hoogle-name {\n",
       "color: green;\n",
       "font-weight: bold;\n",
       "}\n",
       ".hoogle-head {\n",
       "font-weight: bold;\n",
       "}\n",
       ".hoogle-sub {\n",
       "display: block;\n",
       "margin-left: 0.4em;\n",
       "}\n",
       ".hoogle-package {\n",
       "font-weight: bold;\n",
       "font-style: italic;\n",
       "}\n",
       ".hoogle-module {\n",
       "font-weight: bold;\n",
       "}\n",
       ".hoogle-class {\n",
       "font-weight: bold;\n",
       "}\n",
       ".get-type {\n",
       "color: green;\n",
       "font-weight: bold;\n",
       "font-family: monospace;\n",
       "display: block;\n",
       "white-space: pre-wrap;\n",
       "}\n",
       ".show-type {\n",
       "color: green;\n",
       "font-weight: bold;\n",
       "font-family: monospace;\n",
       "margin-left: 1em;\n",
       "}\n",
       ".mono {\n",
       "font-family: monospace;\n",
       "display: block;\n",
       "}\n",
       ".err-msg {\n",
       "color: red;\n",
       "font-style: italic;\n",
       "font-family: monospace;\n",
       "white-space: pre;\n",
       "display: block;\n",
       "}\n",
       "#unshowable {\n",
       "color: red;\n",
       "font-weight: bold;\n",
       "}\n",
       ".err-msg.in.collapse {\n",
       "padding-top: 0.7em;\n",
       "}\n",
       ".highlight-code {\n",
       "white-space: pre;\n",
       "font-family: monospace;\n",
       "}\n",
       ".suggestion-warning { \n",
       "font-weight: bold;\n",
       "color: rgb(200, 130, 0);\n",
       "}\n",
       ".suggestion-error { \n",
       "font-weight: bold;\n",
       "color: red;\n",
       "}\n",
       ".suggestion-name {\n",
       "font-weight: bold;\n",
       "}\n",
       "</style><span class='get-type'>putStr :: String -> IO ()</span>"
      ],
      "text/plain": [
       "putStr :: String -> IO ()"
      ]
     },
     "metadata": {},
     "output_type": "display_data"
    }
   ],
   "source": [
    ":t putStr"
   ]
  },
  {
   "cell_type": "code",
   "execution_count": 6,
   "metadata": {
    "slideshow": {
     "slide_type": "fragment"
    }
   },
   "outputs": [
    {
     "data": {
      "text/html": [
       "<style>/* Styles used for the Hoogle display in the pager */\n",
       ".hoogle-doc {\n",
       "display: block;\n",
       "padding-bottom: 1.3em;\n",
       "padding-left: 0.4em;\n",
       "}\n",
       ".hoogle-code {\n",
       "display: block;\n",
       "font-family: monospace;\n",
       "white-space: pre;\n",
       "}\n",
       ".hoogle-text {\n",
       "display: block;\n",
       "}\n",
       ".hoogle-name {\n",
       "color: green;\n",
       "font-weight: bold;\n",
       "}\n",
       ".hoogle-head {\n",
       "font-weight: bold;\n",
       "}\n",
       ".hoogle-sub {\n",
       "display: block;\n",
       "margin-left: 0.4em;\n",
       "}\n",
       ".hoogle-package {\n",
       "font-weight: bold;\n",
       "font-style: italic;\n",
       "}\n",
       ".hoogle-module {\n",
       "font-weight: bold;\n",
       "}\n",
       ".hoogle-class {\n",
       "font-weight: bold;\n",
       "}\n",
       ".get-type {\n",
       "color: green;\n",
       "font-weight: bold;\n",
       "font-family: monospace;\n",
       "display: block;\n",
       "white-space: pre-wrap;\n",
       "}\n",
       ".show-type {\n",
       "color: green;\n",
       "font-weight: bold;\n",
       "font-family: monospace;\n",
       "margin-left: 1em;\n",
       "}\n",
       ".mono {\n",
       "font-family: monospace;\n",
       "display: block;\n",
       "}\n",
       ".err-msg {\n",
       "color: red;\n",
       "font-style: italic;\n",
       "font-family: monospace;\n",
       "white-space: pre;\n",
       "display: block;\n",
       "}\n",
       "#unshowable {\n",
       "color: red;\n",
       "font-weight: bold;\n",
       "}\n",
       ".err-msg.in.collapse {\n",
       "padding-top: 0.7em;\n",
       "}\n",
       ".highlight-code {\n",
       "white-space: pre;\n",
       "font-family: monospace;\n",
       "}\n",
       ".suggestion-warning { \n",
       "font-weight: bold;\n",
       "color: rgb(200, 130, 0);\n",
       "}\n",
       ".suggestion-error { \n",
       "font-weight: bold;\n",
       "color: red;\n",
       "}\n",
       ".suggestion-name {\n",
       "font-weight: bold;\n",
       "}\n",
       "</style><span class='get-type'>getChar :: IO Char</span>"
      ],
      "text/plain": [
       "getChar :: IO Char"
      ]
     },
     "metadata": {},
     "output_type": "display_data"
    }
   ],
   "source": [
    ":t getChar"
   ]
  },
  {
   "cell_type": "code",
   "execution_count": 7,
   "metadata": {
    "slideshow": {
     "slide_type": "fragment"
    }
   },
   "outputs": [
    {
     "data": {
      "text/html": [
       "<style>/* Styles used for the Hoogle display in the pager */\n",
       ".hoogle-doc {\n",
       "display: block;\n",
       "padding-bottom: 1.3em;\n",
       "padding-left: 0.4em;\n",
       "}\n",
       ".hoogle-code {\n",
       "display: block;\n",
       "font-family: monospace;\n",
       "white-space: pre;\n",
       "}\n",
       ".hoogle-text {\n",
       "display: block;\n",
       "}\n",
       ".hoogle-name {\n",
       "color: green;\n",
       "font-weight: bold;\n",
       "}\n",
       ".hoogle-head {\n",
       "font-weight: bold;\n",
       "}\n",
       ".hoogle-sub {\n",
       "display: block;\n",
       "margin-left: 0.4em;\n",
       "}\n",
       ".hoogle-package {\n",
       "font-weight: bold;\n",
       "font-style: italic;\n",
       "}\n",
       ".hoogle-module {\n",
       "font-weight: bold;\n",
       "}\n",
       ".hoogle-class {\n",
       "font-weight: bold;\n",
       "}\n",
       ".get-type {\n",
       "color: green;\n",
       "font-weight: bold;\n",
       "font-family: monospace;\n",
       "display: block;\n",
       "white-space: pre-wrap;\n",
       "}\n",
       ".show-type {\n",
       "color: green;\n",
       "font-weight: bold;\n",
       "font-family: monospace;\n",
       "margin-left: 1em;\n",
       "}\n",
       ".mono {\n",
       "font-family: monospace;\n",
       "display: block;\n",
       "}\n",
       ".err-msg {\n",
       "color: red;\n",
       "font-style: italic;\n",
       "font-family: monospace;\n",
       "white-space: pre;\n",
       "display: block;\n",
       "}\n",
       "#unshowable {\n",
       "color: red;\n",
       "font-weight: bold;\n",
       "}\n",
       ".err-msg.in.collapse {\n",
       "padding-top: 0.7em;\n",
       "}\n",
       ".highlight-code {\n",
       "white-space: pre;\n",
       "font-family: monospace;\n",
       "}\n",
       ".suggestion-warning { \n",
       "font-weight: bold;\n",
       "color: rgb(200, 130, 0);\n",
       "}\n",
       ".suggestion-error { \n",
       "font-weight: bold;\n",
       "color: red;\n",
       "}\n",
       ".suggestion-name {\n",
       "font-weight: bold;\n",
       "}\n",
       "</style><span class='get-type'>readFile :: FilePath -> IO String</span>"
      ],
      "text/plain": [
       "readFile :: FilePath -> IO String"
      ]
     },
     "metadata": {},
     "output_type": "display_data"
    }
   ],
   "source": [
    ":t readFile "
   ]
  },
  {
   "cell_type": "markdown",
   "metadata": {
    "slideshow": {
     "slide_type": "-"
    }
   },
   "source": [
    "Las tres funciones devuelven un __`IO a`__: un __`IO a`__ es una __acción__ que cuando se ejecuta devuelve un valor de tipo __`a`__."
   ]
  },
  {
   "cell_type": "code",
   "execution_count": 5,
   "metadata": {
    "slideshow": {
     "slide_type": "fragment"
    }
   },
   "outputs": [
    {
     "data": {
      "text/html": [
       "<style>/* Styles used for the Hoogle display in the pager */\n",
       ".hoogle-doc {\n",
       "display: block;\n",
       "padding-bottom: 1.3em;\n",
       "padding-left: 0.4em;\n",
       "}\n",
       ".hoogle-code {\n",
       "display: block;\n",
       "font-family: monospace;\n",
       "white-space: pre;\n",
       "}\n",
       ".hoogle-text {\n",
       "display: block;\n",
       "}\n",
       ".hoogle-name {\n",
       "color: green;\n",
       "font-weight: bold;\n",
       "}\n",
       ".hoogle-head {\n",
       "font-weight: bold;\n",
       "}\n",
       ".hoogle-sub {\n",
       "display: block;\n",
       "margin-left: 0.4em;\n",
       "}\n",
       ".hoogle-package {\n",
       "font-weight: bold;\n",
       "font-style: italic;\n",
       "}\n",
       ".hoogle-module {\n",
       "font-weight: bold;\n",
       "}\n",
       ".hoogle-class {\n",
       "font-weight: bold;\n",
       "}\n",
       ".get-type {\n",
       "color: green;\n",
       "font-weight: bold;\n",
       "font-family: monospace;\n",
       "display: block;\n",
       "white-space: pre-wrap;\n",
       "}\n",
       ".show-type {\n",
       "color: green;\n",
       "font-weight: bold;\n",
       "font-family: monospace;\n",
       "margin-left: 1em;\n",
       "}\n",
       ".mono {\n",
       "font-family: monospace;\n",
       "display: block;\n",
       "}\n",
       ".err-msg {\n",
       "color: red;\n",
       "font-style: italic;\n",
       "font-family: monospace;\n",
       "white-space: pre;\n",
       "display: block;\n",
       "}\n",
       "#unshowable {\n",
       "color: red;\n",
       "font-weight: bold;\n",
       "}\n",
       ".err-msg.in.collapse {\n",
       "padding-top: 0.7em;\n",
       "}\n",
       ".highlight-code {\n",
       "white-space: pre;\n",
       "font-family: monospace;\n",
       "}\n",
       ".suggestion-warning { \n",
       "font-weight: bold;\n",
       "color: rgb(200, 130, 0);\n",
       "}\n",
       ".suggestion-error { \n",
       "font-weight: bold;\n",
       "color: red;\n",
       "}\n",
       ".suggestion-name {\n",
       "font-weight: bold;\n",
       "}\n",
       "</style><span class='get-type'>putStr :: String -> IO ()</span>"
      ],
      "text/plain": [
       "putStr :: String -> IO ()"
      ]
     },
     "metadata": {},
     "output_type": "display_data"
    }
   ],
   "source": [
    ":t putStr"
   ]
  },
  {
   "cell_type": "markdown",
   "metadata": {
    "slideshow": {
     "slide_type": "-"
    }
   },
   "source": [
    "No devuelve nada, __`()`__, sólo imprime a __`stdout`__"
   ]
  },
  {
   "cell_type": "code",
   "execution_count": 6,
   "metadata": {
    "slideshow": {
     "slide_type": "fragment"
    }
   },
   "outputs": [
    {
     "data": {
      "text/html": [
       "<style>/* Styles used for the Hoogle display in the pager */\n",
       ".hoogle-doc {\n",
       "display: block;\n",
       "padding-bottom: 1.3em;\n",
       "padding-left: 0.4em;\n",
       "}\n",
       ".hoogle-code {\n",
       "display: block;\n",
       "font-family: monospace;\n",
       "white-space: pre;\n",
       "}\n",
       ".hoogle-text {\n",
       "display: block;\n",
       "}\n",
       ".hoogle-name {\n",
       "color: green;\n",
       "font-weight: bold;\n",
       "}\n",
       ".hoogle-head {\n",
       "font-weight: bold;\n",
       "}\n",
       ".hoogle-sub {\n",
       "display: block;\n",
       "margin-left: 0.4em;\n",
       "}\n",
       ".hoogle-package {\n",
       "font-weight: bold;\n",
       "font-style: italic;\n",
       "}\n",
       ".hoogle-module {\n",
       "font-weight: bold;\n",
       "}\n",
       ".hoogle-class {\n",
       "font-weight: bold;\n",
       "}\n",
       ".get-type {\n",
       "color: green;\n",
       "font-weight: bold;\n",
       "font-family: monospace;\n",
       "display: block;\n",
       "white-space: pre-wrap;\n",
       "}\n",
       ".show-type {\n",
       "color: green;\n",
       "font-weight: bold;\n",
       "font-family: monospace;\n",
       "margin-left: 1em;\n",
       "}\n",
       ".mono {\n",
       "font-family: monospace;\n",
       "display: block;\n",
       "}\n",
       ".err-msg {\n",
       "color: red;\n",
       "font-style: italic;\n",
       "font-family: monospace;\n",
       "white-space: pre;\n",
       "display: block;\n",
       "}\n",
       "#unshowable {\n",
       "color: red;\n",
       "font-weight: bold;\n",
       "}\n",
       ".err-msg.in.collapse {\n",
       "padding-top: 0.7em;\n",
       "}\n",
       ".highlight-code {\n",
       "white-space: pre;\n",
       "font-family: monospace;\n",
       "}\n",
       ".suggestion-warning { \n",
       "font-weight: bold;\n",
       "color: rgb(200, 130, 0);\n",
       "}\n",
       ".suggestion-error { \n",
       "font-weight: bold;\n",
       "color: red;\n",
       "}\n",
       ".suggestion-name {\n",
       "font-weight: bold;\n",
       "}\n",
       "</style><span class='get-type'>getChar :: IO Char</span>"
      ],
      "text/plain": [
       "getChar :: IO Char"
      ]
     },
     "metadata": {},
     "output_type": "display_data"
    }
   ],
   "source": [
    ":t getChar"
   ]
  },
  {
   "cell_type": "markdown",
   "metadata": {
    "slideshow": {
     "slide_type": "-"
    }
   },
   "source": [
    "Devuelve el __`Char`__ ingresado"
   ]
  },
  {
   "cell_type": "code",
   "execution_count": 7,
   "metadata": {
    "slideshow": {
     "slide_type": "fragment"
    }
   },
   "outputs": [
    {
     "data": {
      "text/html": [
       "<style>/* Styles used for the Hoogle display in the pager */\n",
       ".hoogle-doc {\n",
       "display: block;\n",
       "padding-bottom: 1.3em;\n",
       "padding-left: 0.4em;\n",
       "}\n",
       ".hoogle-code {\n",
       "display: block;\n",
       "font-family: monospace;\n",
       "white-space: pre;\n",
       "}\n",
       ".hoogle-text {\n",
       "display: block;\n",
       "}\n",
       ".hoogle-name {\n",
       "color: green;\n",
       "font-weight: bold;\n",
       "}\n",
       ".hoogle-head {\n",
       "font-weight: bold;\n",
       "}\n",
       ".hoogle-sub {\n",
       "display: block;\n",
       "margin-left: 0.4em;\n",
       "}\n",
       ".hoogle-package {\n",
       "font-weight: bold;\n",
       "font-style: italic;\n",
       "}\n",
       ".hoogle-module {\n",
       "font-weight: bold;\n",
       "}\n",
       ".hoogle-class {\n",
       "font-weight: bold;\n",
       "}\n",
       ".get-type {\n",
       "color: green;\n",
       "font-weight: bold;\n",
       "font-family: monospace;\n",
       "display: block;\n",
       "white-space: pre-wrap;\n",
       "}\n",
       ".show-type {\n",
       "color: green;\n",
       "font-weight: bold;\n",
       "font-family: monospace;\n",
       "margin-left: 1em;\n",
       "}\n",
       ".mono {\n",
       "font-family: monospace;\n",
       "display: block;\n",
       "}\n",
       ".err-msg {\n",
       "color: red;\n",
       "font-style: italic;\n",
       "font-family: monospace;\n",
       "white-space: pre;\n",
       "display: block;\n",
       "}\n",
       "#unshowable {\n",
       "color: red;\n",
       "font-weight: bold;\n",
       "}\n",
       ".err-msg.in.collapse {\n",
       "padding-top: 0.7em;\n",
       "}\n",
       ".highlight-code {\n",
       "white-space: pre;\n",
       "font-family: monospace;\n",
       "}\n",
       ".suggestion-warning { \n",
       "font-weight: bold;\n",
       "color: rgb(200, 130, 0);\n",
       "}\n",
       ".suggestion-error { \n",
       "font-weight: bold;\n",
       "color: red;\n",
       "}\n",
       ".suggestion-name {\n",
       "font-weight: bold;\n",
       "}\n",
       "</style><span class='get-type'>readFile :: FilePath -> IO String</span>"
      ],
      "text/plain": [
       "readFile :: FilePath -> IO String"
      ]
     },
     "metadata": {},
     "output_type": "display_data"
    }
   ],
   "source": [
    ":t readFile "
   ]
  },
  {
   "cell_type": "markdown",
   "metadata": {
    "slideshow": {
     "slide_type": "-"
    }
   },
   "source": [
    "Devuelve el archivo como __`String`__"
   ]
  },
  {
   "cell_type": "markdown",
   "metadata": {
    "slideshow": {
     "slide_type": "slide"
    }
   },
   "source": [
    "__`IO`__ es un __`Monad`__:\n",
    "\n",
    "* __`return`__ : devuelve una acción que \"no hace nada\" y devuelve el valor.\n",
    "* __`>>=`__ (_bind_): devuelve una acción que consiste en ejecutar la acción de la izquierda, y después la de la derecha, pasándole el resultado de la primera."
   ]
  },
  {
   "cell_type": "code",
   "execution_count": null,
   "metadata": {
    "slideshow": {
     "slide_type": "fragment"
    }
   },
   "outputs": [],
   "source": [
    "-- acción que lee un char y después lo imprime\n",
    "getChar >>= putChar\n",
    "\n",
    "-- acción que imprime \"Hola mundo\" por salida estándar\n",
    "putStr \"Hola mundo\""
   ]
  },
  {
   "cell_type": "markdown",
   "metadata": {
    "slideshow": {
     "slide_type": "slide"
    }
   },
   "source": [
    "Si una función tiene que hacer algo con __`IO`__ __no hay forma__ de que lo haga sin devolver un __`IO a`__ (a diferencia de otros __`Monad`__, en los que se puede \"desenvolver\" el valor contenido), y el tipo de la función lo indica __sí o sí__"
   ]
  },
  {
   "cell_type": "code",
   "execution_count": 11,
   "metadata": {
    "slideshow": {
     "slide_type": "fragment"
    }
   },
   "outputs": [],
   "source": [
    "-- acción que eleva x al cuadrado, y luego imprime el resultado\n",
    "\n",
    "cuadrado x = do\n",
    "    let y = x^2\n",
    "    print (\"x^2 es : \" ++ show y)"
   ]
  },
  {
   "cell_type": "code",
   "execution_count": 32,
   "metadata": {
    "slideshow": {
     "slide_type": "fragment"
    }
   },
   "outputs": [
    {
     "data": {
      "text/html": [
       "<style>/* Styles used for the Hoogle display in the pager */\n",
       ".hoogle-doc {\n",
       "display: block;\n",
       "padding-bottom: 1.3em;\n",
       "padding-left: 0.4em;\n",
       "}\n",
       ".hoogle-code {\n",
       "display: block;\n",
       "font-family: monospace;\n",
       "white-space: pre;\n",
       "}\n",
       ".hoogle-text {\n",
       "display: block;\n",
       "}\n",
       ".hoogle-name {\n",
       "color: green;\n",
       "font-weight: bold;\n",
       "}\n",
       ".hoogle-head {\n",
       "font-weight: bold;\n",
       "}\n",
       ".hoogle-sub {\n",
       "display: block;\n",
       "margin-left: 0.4em;\n",
       "}\n",
       ".hoogle-package {\n",
       "font-weight: bold;\n",
       "font-style: italic;\n",
       "}\n",
       ".hoogle-module {\n",
       "font-weight: bold;\n",
       "}\n",
       ".hoogle-class {\n",
       "font-weight: bold;\n",
       "}\n",
       ".get-type {\n",
       "color: green;\n",
       "font-weight: bold;\n",
       "font-family: monospace;\n",
       "display: block;\n",
       "white-space: pre-wrap;\n",
       "}\n",
       ".show-type {\n",
       "color: green;\n",
       "font-weight: bold;\n",
       "font-family: monospace;\n",
       "margin-left: 1em;\n",
       "}\n",
       ".mono {\n",
       "font-family: monospace;\n",
       "display: block;\n",
       "}\n",
       ".err-msg {\n",
       "color: red;\n",
       "font-style: italic;\n",
       "font-family: monospace;\n",
       "white-space: pre;\n",
       "display: block;\n",
       "}\n",
       "#unshowable {\n",
       "color: red;\n",
       "font-weight: bold;\n",
       "}\n",
       ".err-msg.in.collapse {\n",
       "padding-top: 0.7em;\n",
       "}\n",
       ".highlight-code {\n",
       "white-space: pre;\n",
       "font-family: monospace;\n",
       "}\n",
       ".suggestion-warning { \n",
       "font-weight: bold;\n",
       "color: rgb(200, 130, 0);\n",
       "}\n",
       ".suggestion-error { \n",
       "font-weight: bold;\n",
       "color: red;\n",
       "}\n",
       ".suggestion-name {\n",
       "font-weight: bold;\n",
       "}\n",
       "</style><span class='get-type'>cuadrado :: forall p. (Show p, Num p) => p -> IO ()</span>"
      ],
      "text/plain": [
       "cuadrado :: forall p. (Show p, Num p) => p -> IO ()"
      ]
     },
     "metadata": {},
     "output_type": "display_data"
    }
   ],
   "source": [
    ":t cuadrado"
   ]
  },
  {
   "cell_type": "markdown",
   "metadata": {
    "slideshow": {
     "slide_type": "slide"
    }
   },
   "source": [
    "Es importante destacar que, después de todo, la única acción __`IO`__ que se ejecuta un programa Haskell es __`main`__ (formada a partir de otras acciones __`IO`__). Es decir, en el código se van combinando muchas acciones hasta terminar con una única acción, __`main`__. Un programa Haskell completo sería por ejemplo:"
   ]
  },
  {
   "cell_type": "code",
   "execution_count": 40,
   "metadata": {
    "collapsed": true,
    "slideshow": {
     "slide_type": "-"
    }
   },
   "outputs": [],
   "source": [
    "main :: IO ()\n",
    "main = do\n",
    "    putStr \"Ingrese un caracter\"\n",
    "    x <- getChar\n",
    "    putStr (\"Ingresó \" ++ show x)"
   ]
  },
  {
   "cell_type": "markdown",
   "metadata": {
    "slideshow": {
     "slide_type": "slide"
    }
   },
   "source": [
    "## Concurrencia"
   ]
  },
  {
   "cell_type": "markdown",
   "metadata": {
    "slideshow": {
     "slide_type": "-"
    }
   },
   "source": [
    "En Haskell un thread es una acción __`IO`__ que se ejecuta independientemente de otros threads. Para crear threads se utiliza la función __`forkIO`__, que recibe una acción __`IO`__ como único argumento:"
   ]
  },
  {
   "cell_type": "code",
   "execution_count": 12,
   "metadata": {
    "slideshow": {
     "slide_type": "fragment"
    }
   },
   "outputs": [
    {
     "data": {
      "text/html": [
       "<style>/* Styles used for the Hoogle display in the pager */\n",
       ".hoogle-doc {\n",
       "display: block;\n",
       "padding-bottom: 1.3em;\n",
       "padding-left: 0.4em;\n",
       "}\n",
       ".hoogle-code {\n",
       "display: block;\n",
       "font-family: monospace;\n",
       "white-space: pre;\n",
       "}\n",
       ".hoogle-text {\n",
       "display: block;\n",
       "}\n",
       ".hoogle-name {\n",
       "color: green;\n",
       "font-weight: bold;\n",
       "}\n",
       ".hoogle-head {\n",
       "font-weight: bold;\n",
       "}\n",
       ".hoogle-sub {\n",
       "display: block;\n",
       "margin-left: 0.4em;\n",
       "}\n",
       ".hoogle-package {\n",
       "font-weight: bold;\n",
       "font-style: italic;\n",
       "}\n",
       ".hoogle-module {\n",
       "font-weight: bold;\n",
       "}\n",
       ".hoogle-class {\n",
       "font-weight: bold;\n",
       "}\n",
       ".get-type {\n",
       "color: green;\n",
       "font-weight: bold;\n",
       "font-family: monospace;\n",
       "display: block;\n",
       "white-space: pre-wrap;\n",
       "}\n",
       ".show-type {\n",
       "color: green;\n",
       "font-weight: bold;\n",
       "font-family: monospace;\n",
       "margin-left: 1em;\n",
       "}\n",
       ".mono {\n",
       "font-family: monospace;\n",
       "display: block;\n",
       "}\n",
       ".err-msg {\n",
       "color: red;\n",
       "font-style: italic;\n",
       "font-family: monospace;\n",
       "white-space: pre;\n",
       "display: block;\n",
       "}\n",
       "#unshowable {\n",
       "color: red;\n",
       "font-weight: bold;\n",
       "}\n",
       ".err-msg.in.collapse {\n",
       "padding-top: 0.7em;\n",
       "}\n",
       ".highlight-code {\n",
       "white-space: pre;\n",
       "font-family: monospace;\n",
       "}\n",
       ".suggestion-warning { \n",
       "font-weight: bold;\n",
       "color: rgb(200, 130, 0);\n",
       "}\n",
       ".suggestion-error { \n",
       "font-weight: bold;\n",
       "color: red;\n",
       "}\n",
       ".suggestion-name {\n",
       "font-weight: bold;\n",
       "}\n",
       "</style><span class='get-type'>forkIO :: IO () -> IO ThreadId</span>"
      ],
      "text/plain": [
       "forkIO :: IO () -> IO ThreadId"
      ]
     },
     "metadata": {},
     "output_type": "display_data"
    }
   ],
   "source": [
    "import Control.Concurrent\n",
    ":t forkIO"
   ]
  },
  {
   "cell_type": "markdown",
   "metadata": {},
   "source": [
    "__*Ejemplo*__: se crea un nuevo thread que crea un archivo; mientras que en el thread principal se pregunta si dicho archivo existe"
   ]
  },
  {
   "cell_type": "code",
   "execution_count": 13,
   "metadata": {
    "slideshow": {
     "slide_type": "fragment"
    }
   },
   "outputs": [
    {
     "data": {
      "text/plain": [
       "False"
      ]
     },
     "metadata": {},
     "output_type": "display_data"
    }
   ],
   "source": [
    "import System.Directory\n",
    "forkIO(writeFile \"testfile\" \"abcd\") >> doesFileExist \"testFile\""
   ]
  },
  {
   "cell_type": "markdown",
   "metadata": {
    "slideshow": {
     "slide_type": "-"
    }
   },
   "source": [
    "El nuevo thread empezó a ejecutarse, y el thread que lo creó siguió ejecutándose concurrentemente (el resultado fue negativo en este caso porque el thread principal siguió la ejecución antes de que el nuevo thread creara el archivo)."
   ]
  },
  {
   "cell_type": "markdown",
   "metadata": {
    "slideshow": {
     "slide_type": "slide"
    }
   },
   "source": [
    "### Comunicación entre threads"
   ]
  },
  {
   "cell_type": "markdown",
   "metadata": {
    "slideshow": {
     "slide_type": "-"
    }
   },
   "source": [
    "La forma más fácil de compartir información entre dos threads es que compartan una variable. En Haskell, los threads puede compartir variables usando __`MVar`__, que proveen __exclusión mutua__:"
   ]
  },
  {
   "cell_type": "markdown",
   "metadata": {
    "slideshow": {
     "slide_type": "-"
    }
   },
   "source": [
    "__`MVar a`__ es una __`MVar`__ que contiene un valor de tipo __`a`__"
   ]
  },
  {
   "cell_type": "markdown",
   "metadata": {
    "slideshow": {
     "slide_type": "slide"
    }
   },
   "source": [
    "* Para poner un valor en la __`MVar`__ → __`putMVar`__ : el thread se bloquea hasta que la __`MVar`__ no tenga un valor y __pone__ el nuevo valor\n",
    "\n",
    "* Para tomar el valor la __`MVar`__ → __`takeMVar`__ : el thread se bloquea hasta que la __`MVar`__ tenga un valor y __lo saca__ (queda vacía)"
   ]
  },
  {
   "cell_type": "code",
   "execution_count": 11,
   "metadata": {
    "slideshow": {
     "slide_type": "fragment"
    }
   },
   "outputs": [
    {
     "data": {
      "text/html": [
       "<style>/* Styles used for the Hoogle display in the pager */\n",
       ".hoogle-doc {\n",
       "display: block;\n",
       "padding-bottom: 1.3em;\n",
       "padding-left: 0.4em;\n",
       "}\n",
       ".hoogle-code {\n",
       "display: block;\n",
       "font-family: monospace;\n",
       "white-space: pre;\n",
       "}\n",
       ".hoogle-text {\n",
       "display: block;\n",
       "}\n",
       ".hoogle-name {\n",
       "color: green;\n",
       "font-weight: bold;\n",
       "}\n",
       ".hoogle-head {\n",
       "font-weight: bold;\n",
       "}\n",
       ".hoogle-sub {\n",
       "display: block;\n",
       "margin-left: 0.4em;\n",
       "}\n",
       ".hoogle-package {\n",
       "font-weight: bold;\n",
       "font-style: italic;\n",
       "}\n",
       ".hoogle-module {\n",
       "font-weight: bold;\n",
       "}\n",
       ".hoogle-class {\n",
       "font-weight: bold;\n",
       "}\n",
       ".get-type {\n",
       "color: green;\n",
       "font-weight: bold;\n",
       "font-family: monospace;\n",
       "display: block;\n",
       "white-space: pre-wrap;\n",
       "}\n",
       ".show-type {\n",
       "color: green;\n",
       "font-weight: bold;\n",
       "font-family: monospace;\n",
       "margin-left: 1em;\n",
       "}\n",
       ".mono {\n",
       "font-family: monospace;\n",
       "display: block;\n",
       "}\n",
       ".err-msg {\n",
       "color: red;\n",
       "font-style: italic;\n",
       "font-family: monospace;\n",
       "white-space: pre;\n",
       "display: block;\n",
       "}\n",
       "#unshowable {\n",
       "color: red;\n",
       "font-weight: bold;\n",
       "}\n",
       ".err-msg.in.collapse {\n",
       "padding-top: 0.7em;\n",
       "}\n",
       ".highlight-code {\n",
       "white-space: pre;\n",
       "font-family: monospace;\n",
       "}\n",
       ".suggestion-warning { \n",
       "font-weight: bold;\n",
       "color: rgb(200, 130, 0);\n",
       "}\n",
       ".suggestion-error { \n",
       "font-weight: bold;\n",
       "color: red;\n",
       "}\n",
       ".suggestion-name {\n",
       "font-weight: bold;\n",
       "}\n",
       "</style><span class='get-type'>putMVar :: forall a. MVar a -> a -> IO ()</span>"
      ],
      "text/plain": [
       "putMVar :: forall a. MVar a -> a -> IO ()"
      ]
     },
     "metadata": {},
     "output_type": "display_data"
    }
   ],
   "source": [
    ":t putMVar"
   ]
  },
  {
   "cell_type": "code",
   "execution_count": 12,
   "metadata": {
    "slideshow": {
     "slide_type": "fragment"
    }
   },
   "outputs": [
    {
     "data": {
      "text/html": [
       "<style>/* Styles used for the Hoogle display in the pager */\n",
       ".hoogle-doc {\n",
       "display: block;\n",
       "padding-bottom: 1.3em;\n",
       "padding-left: 0.4em;\n",
       "}\n",
       ".hoogle-code {\n",
       "display: block;\n",
       "font-family: monospace;\n",
       "white-space: pre;\n",
       "}\n",
       ".hoogle-text {\n",
       "display: block;\n",
       "}\n",
       ".hoogle-name {\n",
       "color: green;\n",
       "font-weight: bold;\n",
       "}\n",
       ".hoogle-head {\n",
       "font-weight: bold;\n",
       "}\n",
       ".hoogle-sub {\n",
       "display: block;\n",
       "margin-left: 0.4em;\n",
       "}\n",
       ".hoogle-package {\n",
       "font-weight: bold;\n",
       "font-style: italic;\n",
       "}\n",
       ".hoogle-module {\n",
       "font-weight: bold;\n",
       "}\n",
       ".hoogle-class {\n",
       "font-weight: bold;\n",
       "}\n",
       ".get-type {\n",
       "color: green;\n",
       "font-weight: bold;\n",
       "font-family: monospace;\n",
       "display: block;\n",
       "white-space: pre-wrap;\n",
       "}\n",
       ".show-type {\n",
       "color: green;\n",
       "font-weight: bold;\n",
       "font-family: monospace;\n",
       "margin-left: 1em;\n",
       "}\n",
       ".mono {\n",
       "font-family: monospace;\n",
       "display: block;\n",
       "}\n",
       ".err-msg {\n",
       "color: red;\n",
       "font-style: italic;\n",
       "font-family: monospace;\n",
       "white-space: pre;\n",
       "display: block;\n",
       "}\n",
       "#unshowable {\n",
       "color: red;\n",
       "font-weight: bold;\n",
       "}\n",
       ".err-msg.in.collapse {\n",
       "padding-top: 0.7em;\n",
       "}\n",
       ".highlight-code {\n",
       "white-space: pre;\n",
       "font-family: monospace;\n",
       "}\n",
       ".suggestion-warning { \n",
       "font-weight: bold;\n",
       "color: rgb(200, 130, 0);\n",
       "}\n",
       ".suggestion-error { \n",
       "font-weight: bold;\n",
       "color: red;\n",
       "}\n",
       ".suggestion-name {\n",
       "font-weight: bold;\n",
       "}\n",
       "</style><span class='get-type'>takeMVar :: forall a. MVar a -> IO a</span>"
      ],
      "text/plain": [
       "takeMVar :: forall a. MVar a -> IO a"
      ]
     },
     "metadata": {},
     "output_type": "display_data"
    }
   ],
   "source": [
    ":t takeMVar "
   ]
  },
  {
   "cell_type": "markdown",
   "metadata": {},
   "source": [
    "Es importante notar que tanto __`putMVar`__ como __`takeMVar`__ devuelven acciones:  la __`MVar`__ propiamente dicha no se modifica, podría pensarse que es una \"referencia\" a una variable, que se modifica cuando se ejecuta la acción."
   ]
  },
  {
   "cell_type": "markdown",
   "metadata": {},
   "source": [
    "__*Ejemplo*__: se crea un thread que espera a que el thread principal escriba en una __`MVar`__ un valor y luego lo imprime"
   ]
  },
  {
   "cell_type": "code",
   "execution_count": 29,
   "metadata": {
    "collapsed": true,
    "slideshow": {
     "slide_type": "slide"
    }
   },
   "outputs": [],
   "source": [
    "communicate = do\n",
    "    m <- newEmptyMVar\n",
    "    forkIO $ do\n",
    "        v <- takeMVar m\n",
    "        putStrLn (\"received \" ++ show v)\n",
    "    putStrLn \"sending\"\n",
    "    putMVar m \"wake up!\""
   ]
  },
  {
   "cell_type": "code",
   "execution_count": 30,
   "metadata": {
    "slideshow": {
     "slide_type": "fragment"
    }
   },
   "outputs": [
    {
     "data": {
      "text/plain": [
       "sending\n",
       "received \"wake up!\""
      ]
     },
     "metadata": {},
     "output_type": "display_data"
    }
   ],
   "source": [
    "communicate"
   ]
  },
  {
   "cell_type": "markdown",
   "metadata": {},
   "source": [
    "#  Caso de uso real : Sigma de Facebook"
   ]
  },
  {
   "cell_type": "markdown",
   "metadata": {},
   "source": [
    "Sistema desarrollado en Haskell que detecta y elimina automáticamente mensajes de spam, links a malware, entre otras interacciones ofensivas. Se utiliza hace dos años en Haskell, y soporta 1 millón de consultas por segundo.\n",
    "Este mismo trabajo lo habían desarrollado en un lenguaje que se llama FXL, es interno de Facebook. Pero debido a la mala performance y a la lenta puesta en producción de cambios, se decidió migrar todo el desarrollo a Haskell."
   ]
  },
  {
   "cell_type": "markdown",
   "metadata": {},
   "source": [
    "## Sigma: reglas"
   ]
  },
  {
   "cell_type": "markdown",
   "metadata": {},
   "source": [
    "Cada interacción debe pasar por una serie de reglas. Esas reglas toman en cuenta datos sobre cantidad de amigos, temática del posteo, intereses de tus amigos, etc.\n",
    "Aprovechando que Haskell es lazy, lo que se hace es evaluar las reglas excluyentes que sean mas simples de procesar primero, de tal forma de no realizar cálculos en vano. Si la primera regla se cumple para que un posteo sea filtrado, y esa primera regla requería poco procesamiento, se logra filtrar una interacción de forma eficiente."
   ]
  },
  {
   "cell_type": "markdown",
   "metadata": {},
   "source": [
    "## Por qué Haskell?"
   ]
  },
  {
   "cell_type": "markdown",
   "metadata": {},
   "source": [
    "- Tipado fuerte: se evitan errores en tiempo de ejecución que el compilador puede detectar en tiempo de compilación. Brinda mas seguridad.\n",
    "- Lazy: se aprovecha esta propiedad de Haskell evaluando primero las reglas excluyentes que tengan menor tiempo de procesamiento, de tal forma de ahorrar recursos al no evaluar cada una de las reglas innecesariamente.\n",
    "- Mejor rendimiento comparado con FXL.\n",
    "- Concurrencia implicida: el desarrollador no debe preocuparse por manejar la concurrencia, sino que esta se aprovecha cuando es posible, dejando al desarrollador ocuparse solo de la implementacion de las reglas.\n",
    "- Deploy de cambios en producción en minutos, algo que FXL no brindaba. Ayuda a atacar avalancha de amenazas rapidamente."
   ]
  },
  {
   "cell_type": "markdown",
   "metadata": {
    "ExecuteTime": {
     "end_time": "2018-07-02T03:06:06.873350Z",
     "start_time": "2018-07-02T03:06:06.853Z"
    }
   },
   "source": [
    "# Estadísticas de uso"
   ]
  },
  {
   "cell_type": "markdown",
   "metadata": {
    "ExecuteTime": {
     "end_time": "2018-07-02T03:05:26.605667Z",
     "start_time": "2018-07-02T03:05:26.589Z"
    }
   },
   "source": [
    "Dos fuentes de estadísticas de uso de Haskell son Stack Overflow y Github.\n",
    "\n",
    "En 2017, la encuesta anual de Stack Overflow ubicó a Haskell en el puesto 25 (1.8%) de popularidad, mientras que en el puesto 1 se ubicó Javascript (62.5%). En 2018, Haskell ni siquiera aparece en el top 25. Sin embargo, \n",
    "en este año, Haskell se ubicó en el puesto 16 (53.6%) de los lenguajes más \"amados\", mientras que en el primer puesto se encuentra Rust. Sorprendentemente, Haskell apareció en el puesto 23 de los lenguajes más \"temidos\" (desarrolladores que trabajan con el lenguaje y quieren dejar de hacerlo), en una mejor posición que lenguajes muchísimo más populares como Java (puesto 23) o C++ (17).\n",
    "\n",
    "Por otro lado, en Github (2018) hay aproximadamente 324000 repositorios en Javascript (el más popular) mientras que hay sólo 8700 de Haskell, que da cuenta de su poca popularidad."
   ]
  },
  {
   "cell_type": "markdown",
   "metadata": {},
   "source": [
    "## ¿Por qué Haskell no es tan popular?"
   ]
  },
  {
   "cell_type": "markdown",
   "metadata": {},
   "source": [
    "- Es un lenguage creado para investigacion y desarrollo. Sirvió como base para otros lenguages funcionales. Nunca tuvo objetivo comercial/industrial.\n",
    "- Nunca tuvo la banca de una gran compañía. Es de gran ayuda que una empresa de renombre acompañe el desarrollo del lenguaje, como paso con Go de google, u Objective-C o Swift en Apple. Algunas empresas, como Facebook, utilizan Haskell pero no en partes Core de su desarrollo, sino para aplicaciones auxiliares.\n",
    "- Es funcional. Para comenzar a programar, normalmente se utiliza un lenguaje orientado a objetos, además de que se utiliza en gran porcentaje en la industria. Por lo cual, aprender Haskell no es como aprender un lenguaje más, sino que requiere entender un paradigma que es totalmente diferente. Más allá de que Haskell sea un lenguaje sencillo, aprender/entender el paradigma funcional es lo que hace que la curva de aprendizaje al principio sea de lento crecimiento."
   ]
  },
  {
   "cell_type": "markdown",
   "metadata": {},
   "source": [
    "# Resumen y conclusiones"
   ]
  },
  {
   "cell_type": "markdown",
   "metadata": {
    "ExecuteTime": {
     "end_time": "2018-07-01T01:11:46.033092Z",
     "start_time": "2018-07-01T01:11:46.013Z"
    }
   },
   "source": [
    "Resumiendo, las características distintivas de Haskell son:\n",
    "\n",
    "* Lenguaje compilado\n",
    "* Lenguaje funcional puro\n",
    "* IO explícito\n",
    "* Tipado fuerte y estático\n",
    "* Lazy por defecto"
   ]
  },
  {
   "cell_type": "markdown",
   "metadata": {},
   "source": [
    "Todo esto, como se vio en los ejemplos y se verá en los casos de uso, lo hace un lenguaje muy expresivo: algunas cosas que en lenguaje imperativos, incluso en los más simples como Python, llevan varias líneas de código, en Haskell pueden lograrse en sólo una línea y mucho más claramente; además Haskell es seguro, en el sentido de que no pasan cosas \"raras\" u ocultas, todas las operaciones de IO están siempre a la vista, y el tipado fuerte hace que sea casi imposible que haya errores en tiempo de ejecución. \n",
    "\n",
    "Por otro lado, suele ser bastante difícil de dominar, más allá de los temas que tratamos en este trabajo, por lo que es muy usado en el ámbito académico por su alto contenido teórico, pero no son muchos los casos de uso en la industria."
   ]
  },
  {
   "cell_type": "markdown",
   "metadata": {
    "slideshow": {
     "slide_type": "slide"
    }
   },
   "source": [
    "# Referencias"
   ]
  },
  {
   "cell_type": "markdown",
   "metadata": {
    "slideshow": {
     "slide_type": "-"
    }
   },
   "source": [
    "* _Learn you a Haskell_: http://learnyouahaskell.com/\n",
    "* _CIS 194: Introduction to Haskell (Spring 2013)_, University of Pennsylvania: \n",
    "    http://www.cis.upenn.edu/~cis194/spring13/\n",
    "* _Haskell Wikibook_ https://en.wikibooks.org/wiki/Haskell\n",
    "* _Real World Haskell_: http://book.realworldhaskell.org/\n",
    "* _Haskell Wiki_: https://wiki.haskell.org/Haskell\n",
    "* Facebook - Fighting Spam with Haskell https://code.fb.com/security/fighting-spam-with-haskell/\n",
    "* Stack Overflow - Developer Survey Results 2018 https://insights.stackoverflow.com/survey/2018\n",
    "* Stack Overflow - Developer Survey Results 2017 https://insights.stackoverflow.com/survey/2017"
   ]
  }
 ],
 "metadata": {
  "kernelspec": {
   "display_name": "Haskell",
   "language": "haskell",
   "name": "haskell"
  },
  "language_info": {
   "codemirror_mode": "ihaskell",
   "file_extension": ".hs",
   "name": "haskell",
   "version": "8.2.2"
  }
 },
 "nbformat": 4,
 "nbformat_minor": 2
}
