{
 "cells": [
  {
   "cell_type": "markdown",
   "metadata": {},
   "source": [
    "<img src=\"haskell-logo.png\">"
   ]
  },
  {
   "cell_type": "markdown",
   "metadata": {},
   "source": [
    "# Recursividad"
   ]
  },
  {
   "cell_type": "markdown",
   "metadata": {},
   "source": [
    "## Importante en Haskell por ser un lenguaje funcional. No se declara como hacer las cosas sino como son las cosas."
   ]
  },
  {
   "cell_type": "markdown",
   "metadata": {},
   "source": [
    "### Ejemplo de maximo de una lista"
   ]
  },
  {
   "cell_type": "code",
   "execution_count": null,
   "metadata": {
    "collapsed": true
   },
   "outputs": [],
   "source": [
    "maxim :: (Ord a) => [a] -> a\n",
    "maxim [] = error \"Máximo de una lista vacía\"\n",
    "maxim [x] = x\n",
    "maxim (x:xs)\n",
    "    | x > maxTail = x\n",
    "    | otherwise   = maxTail\n",
    "    where maxTail = maxim xs\n",
    "\n",
    "main = print (maxim ['a', 'b', 'z','f', 'h'])"
   ]
  },
  {
   "cell_type": "markdown",
   "metadata": {},
   "source": [
    "#### 'z'"
   ]
  },
  {
   "cell_type": "markdown",
   "metadata": {},
   "source": [
    "### Otro ejemplo: funcion repl. Recibe un numero n y un dato tipo Ord. Devuelve una lista del dato tipo Ord replicado n veces"
   ]
  },
  {
   "cell_type": "code",
   "execution_count": null,
   "metadata": {
    "collapsed": true
   },
   "outputs": [],
   "source": [
    "repl :: (Num i, Ord i) => i -> a -> [a]\n",
    "repl n x\n",
    "    | n <= 0    = []\n",
    "    | otherwise = x:repl (n-1) x\n",
    "\n",
    "main = print(repl 5 \"Haskell\")"
   ]
  },
  {
   "cell_type": "markdown",
   "metadata": {},
   "source": [
    "#### [\"Haskell\",\"Haskell\",\"Haskell\",\"Haskell\",\"Haskell\"]"
   ]
  },
  {
   "cell_type": "markdown",
   "metadata": {},
   "source": [
    "# Comparando con java"
   ]
  },
  {
   "cell_type": "markdown",
   "metadata": {},
   "source": [
    "## Quicksort Java"
   ]
  },
  {
   "cell_type": "code",
   "execution_count": null,
   "metadata": {
    "collapsed": true
   },
   "outputs": [],
   "source": [
    "package com.java2novice.sorting;\n",
    " \n",
    "public class MyQuickSort {\n",
    "     \n",
    "    private int array[];\n",
    "    private int length;\n",
    " \n",
    "    public void sort(int[] inputArr) {\n",
    "         \n",
    "        if (inputArr == null || inputArr.length == 0) {\n",
    "            return;\n",
    "        }\n",
    "        this.array = inputArr;\n",
    "        length = inputArr.length;\n",
    "        quickSort(0, length - 1);\n",
    "    }\n",
    " \n",
    "    private void quickSort(int lowerIndex, int higherIndex) {\n",
    "         \n",
    "        int i = lowerIndex;\n",
    "        int j = higherIndex;\n",
    "        // calculate pivot number, I am taking pivot as middle index number\n",
    "        int pivot = array[lowerIndex+(higherIndex-lowerIndex)/2];\n",
    "        // Divide into two arrays\n",
    "        while (i <= j) {\n",
    "            /**\n",
    "             * In each iteration, we will identify a number from left side which \n",
    "             * is greater then the pivot value, and also we will identify a number \n",
    "             * from right side which is less then the pivot value. Once the search \n",
    "             * is done, then we exchange both numbers.\n",
    "             */\n",
    "            while (array[i] < pivot) {\n",
    "                i++;\n",
    "            }\n",
    "            while (array[j] > pivot) {\n",
    "                j--;\n",
    "            }\n",
    "            if (i <= j) {\n",
    "                exchangeNumbers(i, j);\n",
    "                //move index to next position on both sides\n",
    "                i++;\n",
    "                j--;\n",
    "            }\n",
    "        }\n",
    "        // call quickSort() method recursively\n",
    "        if (lowerIndex < j)\n",
    "            quickSort(lowerIndex, j);\n",
    "        if (i < higherIndex)\n",
    "            quickSort(i, higherIndex);\n",
    "    }\n",
    " \n",
    "    private void exchangeNumbers(int i, int j) {\n",
    "        int temp = array[i];\n",
    "        array[i] = array[j];\n",
    "        array[j] = temp;\n",
    "    }\n",
    "     \n",
    "    public static void main(String a[]){\n",
    "         \n",
    "        MyQuickSort sorter = new MyQuickSort();\n",
    "        int[] input = {24,2,45,20,56,75,2,56,99,53,12};\n",
    "        sorter.sort(input);\n",
    "        for(int i:input){\n",
    "            System.out.print(i);\n",
    "            System.out.print(\" \");\n",
    "        }\n",
    "    }\n",
    "}"
   ]
  },
  {
   "cell_type": "markdown",
   "metadata": {},
   "source": [
    "## Quicksort Haskell "
   ]
  },
  {
   "cell_type": "code",
   "execution_count": null,
   "metadata": {
    "collapsed": true
   },
   "outputs": [],
   "source": [
    "quicksort :: (Ord a) => [a] -> [a]\n",
    "quicksort [] = []\n",
    "quicksort (x:xs) =\n",
    "    let smallerSorted = quicksort [a | a <- xs, a <= x]\n",
    "        biggerSorted  = quicksort [a | a <- xs, a > x]\n",
    "    in  smallerSorted ++ [x] ++ biggerSorted"
   ]
  },
  {
   "cell_type": "markdown",
   "metadata": {},
   "source": [
    "# Funciones currificadas\n"
   ]
  },
  {
   "cell_type": "markdown",
   "metadata": {},
   "source": [
    "## Cada funcion de Haskell puede tomar solo un parametro. Como hacemos para llamar a una funcion con mas de un parametro? Currificamos la funcion"
   ]
  },
  {
   "cell_type": "markdown",
   "metadata": {},
   "source": [
    "### Ejemplo: multiplicacion de 3 argumentos"
   ]
  },
  {
   "cell_type": "code",
   "execution_count": null,
   "metadata": {
    "collapsed": true
   },
   "outputs": [],
   "source": [
    "multThree :: (Num a) => a -> a -> a -> a\n",
    "multThree x y z = x * y * z"
   ]
  },
  {
   "cell_type": "markdown",
   "metadata": {},
   "source": [
    "### Se puede leer como que multThree toma una funcion que recibe un numero y devuelve otro numero. Luego esa funcion recibe otro numero y devuelve otro numero (la multiplicacion de los 3)"
   ]
  },
  {
   "cell_type": "markdown",
   "metadata": {},
   "source": [
    "### Pasando en limpio...se van componiendo funciones que reciben un numero y devuelven otra funcion que a su vez recibe un numero y devuelve otro. Redefiniendo..."
   ]
  },
  {
   "cell_type": "code",
   "execution_count": null,
   "metadata": {
    "collapsed": true
   },
   "outputs": [],
   "source": [
    "multThree :: (Num a) => a -> (a -> (a -> a))"
   ]
  },
  {
   "cell_type": "markdown",
   "metadata": {},
   "source": [
    "## Beneficios? Si llamamos a una funcion con parametros de menos, obtenemos una funcion parcialmente aplicada, que puede ser utilizada para crear otra funcion. \n",
    "\n",
    "## Ejemplo: creemos una funcion que recibe dos numeros y los multiplica por 9, utilizando la funcion multThree"
   ]
  },
  {
   "cell_type": "code",
   "execution_count": null,
   "metadata": {
    "collapsed": true
   },
   "outputs": [],
   "source": [
    "multThree :: (Num a) => a -> a -> a -> a\n",
    "multThree x y z = x * y * z\n",
    "\n",
    "let multTwoWithNine = multThree 9\n",
    "multTwoWithNine 2 3"
   ]
  },
  {
   "cell_type": "markdown",
   "metadata": {},
   "source": [
    "### Esto sienta las bases para definir lo que son las funciones de orden superior"
   ]
  },
  {
   "cell_type": "markdown",
   "metadata": {},
   "source": [
    "# Funciones de Orden Superior"
   ]
  },
  {
   "cell_type": "markdown",
   "metadata": {},
   "source": [
    "### Como vimos recien, las funciones pueden tomar funciones como parametros y devolver otras funciones.\n",
    "\n",
    "### Ejemplo: applyTwice recibe una funcion y un numero, y devuelve la doble aplicacion del numero a la funcion."
   ]
  },
  {
   "cell_type": "code",
   "execution_count": null,
   "metadata": {
    "collapsed": true
   },
   "outputs": [],
   "source": [
    "applyTwice :: (a -> a) -> a -> a\n",
    "applyTwice f x = f (f x)"
   ]
  },
  {
   "cell_type": "markdown",
   "metadata": {},
   "source": [
    "### Utilizando la funcion multThree que habiamos definido antes:"
   ]
  },
  {
   "cell_type": "code",
   "execution_count": null,
   "metadata": {
    "collapsed": true
   },
   "outputs": [],
   "source": [
    "applyTwice :: (a -> a) -> a -> a\n",
    "applyTwice f x = f (f x)\n",
    "\n",
    "multThree :: (Num a) => a -> a -> a -> a\n",
    "multThree x y z = x * y * z\n",
    "\n",
    "main = print( applyTwice (multThree 2 2) 3) "
   ]
  },
  {
   "cell_type": "markdown",
   "metadata": {},
   "source": [
    "### ( multThree 2 2 ) es una funcion que recibe un numero y lo multiplica por 4. Por lo tanto, el resultado nos da 48"
   ]
  }
 ],
 "metadata": {
  "kernelspec": {
   "display_name": "Python 3",
   "language": "python",
   "name": "python3"
  },
  "language_info": {
   "codemirror_mode": {
    "name": "ipython",
    "version": 3
   },
   "file_extension": ".py",
   "mimetype": "text/x-python",
   "name": "python",
   "nbconvert_exporter": "python",
   "pygments_lexer": "ipython3",
   "version": "3.5.3"
  }
 },
 "nbformat": 4,
 "nbformat_minor": 2
}
