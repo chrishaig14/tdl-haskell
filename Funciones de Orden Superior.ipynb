{
 "cells": [
  {
   "cell_type": "markdown",
   "metadata": {},
   "source": [
    "# Comparando un poco con java"
   ]
  },
  {
   "cell_type": "markdown",
   "metadata": {},
   "source": [
    "## Quicksort Java"
   ]
  },
  {
   "cell_type": "code",
   "execution_count": null,
   "metadata": {},
   "outputs": [],
   "source": [
    "package com.java2novice.sorting;\n",
    " \n",
    "public class MyQuickSort {\n",
    "     \n",
    "    private int array[];\n",
    "    private int length;\n",
    " \n",
    "    public void sort(int[] inputArr) {\n",
    "         \n",
    "        if (inputArr == null || inputArr.length == 0) {\n",
    "            return;\n",
    "        }\n",
    "        this.array = inputArr;\n",
    "        length = inputArr.length;\n",
    "        quickSort(0, length - 1);\n",
    "    }\n",
    " \n",
    "    private void quickSort(int lowerIndex, int higherIndex) {\n",
    "         \n",
    "        int i = lowerIndex;\n",
    "        int j = higherIndex;\n",
    "        // calculate pivot number, I am taking pivot as middle index number\n",
    "        int pivot = array[lowerIndex+(higherIndex-lowerIndex)/2];\n",
    "        // Divide into two arrays\n",
    "        while (i <= j) {\n",
    "            /**\n",
    "             * In each iteration, we will identify a number from left side which \n",
    "             * is greater then the pivot value, and also we will identify a number \n",
    "             * from right side which is less then the pivot value. Once the search \n",
    "             * is done, then we exchange both numbers.\n",
    "             */\n",
    "            while (array[i] < pivot) {\n",
    "                i++;\n",
    "            }\n",
    "            while (array[j] > pivot) {\n",
    "                j--;\n",
    "            }\n",
    "            if (i <= j) {\n",
    "                exchangeNumbers(i, j);\n",
    "                //move index to next position on both sides\n",
    "                i++;\n",
    "                j--;\n",
    "            }\n",
    "        }\n",
    "        // call quickSort() method recursively\n",
    "        if (lowerIndex < j)\n",
    "            quickSort(lowerIndex, j);\n",
    "        if (i < higherIndex)\n",
    "            quickSort(i, higherIndex);\n",
    "    }\n",
    " \n",
    "    private void exchangeNumbers(int i, int j) {\n",
    "        int temp = array[i];\n",
    "        array[i] = array[j];\n",
    "        array[j] = temp;\n",
    "    }\n",
    "     \n",
    "    public static void main(String a[]){\n",
    "         \n",
    "        MyQuickSort sorter = new MyQuickSort();\n",
    "        int[] input = {24,2,45,20,56,75,2,56,99,53,12};\n",
    "        sorter.sort(input);\n",
    "        for(int i:input){\n",
    "            System.out.print(i);\n",
    "            System.out.print(\" \");\n",
    "        }\n",
    "    }\n",
    "}"
   ]
  },
  {
   "cell_type": "markdown",
   "metadata": {},
   "source": [
    "## Quicksort Haskell "
   ]
  },
  {
   "cell_type": "code",
   "execution_count": null,
   "metadata": {},
   "outputs": [],
   "source": [
    "qsort []     = []\n",
    " qsort (x:xs) = qsort less ++ [x] ++ qsort more\n",
    "     where less = filter (<x)  xs\n",
    "           more = filter (>=x) xs"
   ]
  },
  {
   "cell_type": "markdown",
   "metadata": {},
   "source": [
    "# Funciones de Orden Superior"
   ]
  },
  {
   "cell_type": "markdown",
   "metadata": {},
   "source": [
    "# Currificado\n"
   ]
  },
  {
   "cell_type": "markdown",
   "metadata": {},
   "source": [
    "# Funciones Lambda"
   ]
  }
 ],
 "metadata": {
  "kernelspec": {
   "display_name": "Python 3",
   "language": "python",
   "name": "python3"
  },
  "language_info": {
   "codemirror_mode": {
    "name": "ipython",
    "version": 3
   },
   "file_extension": ".py",
   "mimetype": "text/x-python",
   "name": "python",
   "nbconvert_exporter": "python",
   "pygments_lexer": "ipython3",
   "version": "3.6.4"
  }
 },
 "nbformat": 4,
 "nbformat_minor": 2
}
